{
 "cells": [
  {
   "cell_type": "markdown",
   "id": "9cfeb6e8",
   "metadata": {},
   "source": [
    "# Data Pre-Processing and Exploration"
   ]
  },
  {
   "cell_type": "markdown",
   "id": "c9ae8abc",
   "metadata": {},
   "source": [
    "## Import Libraries"
   ]
  },
  {
   "cell_type": "markdown",
   "id": "11eec475",
   "metadata": {},
   "source": [
    "These are the main libraries used for data exploration:\n",
    "+ `numpy`: used for mathematical operations on matrices\n",
    "+ `pandas`: used to store data from `.csv` files and operate functions on DataFrame\n",
    "+ `matplotlib`: used to visualize data"
   ]
  },
  {
   "cell_type": "code",
   "execution_count": 1,
   "id": "63d07a8f",
   "metadata": {},
   "outputs": [],
   "source": [
    "import numpy as np\n",
    "import pandas as pd\n",
    "import seaborn as sns\n",
    "import matplotlib.pyplot as plt\n",
    "import ast\n",
    "import re\n",
    "import datetime as dt\n",
    "pd.options.mode.chained_assignment = None"
   ]
  },
  {
   "cell_type": "markdown",
   "id": "4ac5ed7e",
   "metadata": {},
   "source": [
    "## Exploring Data (rows, cols, dtype)"
   ]
  },
  {
   "cell_type": "markdown",
   "id": "d2316faf",
   "metadata": {},
   "source": [
    "### Read data from file `.csv`"
   ]
  },
  {
   "cell_type": "code",
   "execution_count": 2,
   "id": "b5575145",
   "metadata": {},
   "outputs": [],
   "source": [
    "manga_df = pd.read_csv('../data/comic.csv')"
   ]
  },
  {
   "cell_type": "code",
   "execution_count": 3,
   "id": "0bd9521b",
   "metadata": {},
   "outputs": [
    {
     "data": {
      "text/html": [
       "<div>\n",
       "<style scoped>\n",
       "    .dataframe tbody tr th:only-of-type {\n",
       "        vertical-align: middle;\n",
       "    }\n",
       "\n",
       "    .dataframe tbody tr th {\n",
       "        vertical-align: top;\n",
       "    }\n",
       "\n",
       "    .dataframe thead th {\n",
       "        text-align: right;\n",
       "    }\n",
       "</style>\n",
       "<table border=\"1\" class=\"dataframe\">\n",
       "  <thead>\n",
       "    <tr style=\"text-align: right;\">\n",
       "      <th></th>\n",
       "      <th>Title</th>\n",
       "      <th>Score</th>\n",
       "      <th>Vote</th>\n",
       "      <th>Ranked</th>\n",
       "      <th>Popularity</th>\n",
       "      <th>Members</th>\n",
       "      <th>Favorite</th>\n",
       "      <th>Volumes</th>\n",
       "      <th>Chapters</th>\n",
       "      <th>Status</th>\n",
       "      <th>Published</th>\n",
       "      <th>Genres</th>\n",
       "      <th>Themes</th>\n",
       "      <th>Author</th>\n",
       "      <th>Total Review</th>\n",
       "      <th>Type Review</th>\n",
       "    </tr>\n",
       "  </thead>\n",
       "  <tbody>\n",
       "    <tr>\n",
       "      <th>0</th>\n",
       "      <td>Berserk</td>\n",
       "      <td>9.47</td>\n",
       "      <td>330815</td>\n",
       "      <td>1</td>\n",
       "      <td>1</td>\n",
       "      <td>664,507</td>\n",
       "      <td>122,709</td>\n",
       "      <td>Unknown</td>\n",
       "      <td>Unknown</td>\n",
       "      <td>Publishing</td>\n",
       "      <td>Aug  25, 1989 to ?</td>\n",
       "      <td>['Action', 'Adventure', 'Award Winning', 'Dram...</td>\n",
       "      <td>['Gore', 'Military', 'Mythology', 'Psychologic...</td>\n",
       "      <td>Miura, Kentarou (Story &amp; Art), Studio Gaga (Art)</td>\n",
       "      <td>258</td>\n",
       "      <td>[233, 15, 10]</td>\n",
       "    </tr>\n",
       "    <tr>\n",
       "      <th>1</th>\n",
       "      <td>JoJo no Kimyou na Bouken Part 7: Steel Ball Run</td>\n",
       "      <td>9.30</td>\n",
       "      <td>156218</td>\n",
       "      <td>2</td>\n",
       "      <td>26</td>\n",
       "      <td>255,895</td>\n",
       "      <td>42,837</td>\n",
       "      <td>24</td>\n",
       "      <td>96</td>\n",
       "      <td>Finished</td>\n",
       "      <td>Jan  19, 2004 to Apr  19, 2011</td>\n",
       "      <td>['Action', 'Adventure', 'Mystery', 'Supernatur...</td>\n",
       "      <td>[]</td>\n",
       "      <td>Araki, Hirohiko (Story &amp; Art)</td>\n",
       "      <td>128</td>\n",
       "      <td>[120, 7, 1]</td>\n",
       "    </tr>\n",
       "    <tr>\n",
       "      <th>2</th>\n",
       "      <td>Vagabond</td>\n",
       "      <td>9.24</td>\n",
       "      <td>136151</td>\n",
       "      <td>3</td>\n",
       "      <td>15</td>\n",
       "      <td>364,337</td>\n",
       "      <td>40,091</td>\n",
       "      <td>37</td>\n",
       "      <td>327</td>\n",
       "      <td>On Hiatus</td>\n",
       "      <td>Sep  3, 1998 to May  21, 2015</td>\n",
       "      <td>['Action', 'Adventure', 'Award Winning']</td>\n",
       "      <td>['Historical', 'Samurai']</td>\n",
       "      <td>Inoue, Takehiko (Story &amp; Art), Yoshikawa, Eiji...</td>\n",
       "      <td>96</td>\n",
       "      <td>[88, 7, 1]</td>\n",
       "    </tr>\n",
       "    <tr>\n",
       "      <th>3</th>\n",
       "      <td>One Piece</td>\n",
       "      <td>9.22</td>\n",
       "      <td>366300</td>\n",
       "      <td>4</td>\n",
       "      <td>3</td>\n",
       "      <td>598,654</td>\n",
       "      <td>114,423</td>\n",
       "      <td>Unknown</td>\n",
       "      <td>Unknown</td>\n",
       "      <td>Publishing</td>\n",
       "      <td>Jul  22, 1997 to ?</td>\n",
       "      <td>['Action', 'Adventure', 'Fantasy']</td>\n",
       "      <td>[]</td>\n",
       "      <td>Oda, Eiichiro (Story &amp; Art)</td>\n",
       "      <td>206</td>\n",
       "      <td>[173, 17, 16]</td>\n",
       "    </tr>\n",
       "    <tr>\n",
       "      <th>4</th>\n",
       "      <td>Monster</td>\n",
       "      <td>9.15</td>\n",
       "      <td>93811</td>\n",
       "      <td>5</td>\n",
       "      <td>29</td>\n",
       "      <td>236,041</td>\n",
       "      <td>20,484</td>\n",
       "      <td>18</td>\n",
       "      <td>162</td>\n",
       "      <td>Finished</td>\n",
       "      <td>Dec  5, 1994 to Dec  20, 2001</td>\n",
       "      <td>['Award Winning', 'Drama', 'Mystery']</td>\n",
       "      <td>['Adult Cast', 'Psychological']</td>\n",
       "      <td>Urasawa, Naoki (Story &amp; Art)</td>\n",
       "      <td>76</td>\n",
       "      <td>[64, 7, 5]</td>\n",
       "    </tr>\n",
       "  </tbody>\n",
       "</table>\n",
       "</div>"
      ],
      "text/plain": [
       "                                             Title  Score    Vote  Ranked  \\\n",
       "0                                          Berserk   9.47  330815       1   \n",
       "1  JoJo no Kimyou na Bouken Part 7: Steel Ball Run   9.30  156218       2   \n",
       "2                                         Vagabond   9.24  136151       3   \n",
       "3                                        One Piece   9.22  366300       4   \n",
       "4                                          Monster   9.15   93811       5   \n",
       "\n",
       "   Popularity  Members Favorite  Volumes Chapters      Status  \\\n",
       "0           1  664,507  122,709  Unknown  Unknown  Publishing   \n",
       "1          26  255,895   42,837       24       96    Finished   \n",
       "2          15  364,337   40,091       37      327   On Hiatus   \n",
       "3           3  598,654  114,423  Unknown  Unknown  Publishing   \n",
       "4          29  236,041   20,484       18      162    Finished   \n",
       "\n",
       "                        Published  \\\n",
       "0              Aug  25, 1989 to ?   \n",
       "1  Jan  19, 2004 to Apr  19, 2011   \n",
       "2   Sep  3, 1998 to May  21, 2015   \n",
       "3              Jul  22, 1997 to ?   \n",
       "4   Dec  5, 1994 to Dec  20, 2001   \n",
       "\n",
       "                                              Genres  \\\n",
       "0  ['Action', 'Adventure', 'Award Winning', 'Dram...   \n",
       "1  ['Action', 'Adventure', 'Mystery', 'Supernatur...   \n",
       "2           ['Action', 'Adventure', 'Award Winning']   \n",
       "3                 ['Action', 'Adventure', 'Fantasy']   \n",
       "4              ['Award Winning', 'Drama', 'Mystery']   \n",
       "\n",
       "                                              Themes  \\\n",
       "0  ['Gore', 'Military', 'Mythology', 'Psychologic...   \n",
       "1                                                 []   \n",
       "2                          ['Historical', 'Samurai']   \n",
       "3                                                 []   \n",
       "4                    ['Adult Cast', 'Psychological']   \n",
       "\n",
       "                                              Author  Total Review  \\\n",
       "0   Miura, Kentarou (Story & Art), Studio Gaga (Art)           258   \n",
       "1                      Araki, Hirohiko (Story & Art)           128   \n",
       "2  Inoue, Takehiko (Story & Art), Yoshikawa, Eiji...            96   \n",
       "3                        Oda, Eiichiro (Story & Art)           206   \n",
       "4                       Urasawa, Naoki (Story & Art)            76   \n",
       "\n",
       "     Type Review  \n",
       "0  [233, 15, 10]  \n",
       "1    [120, 7, 1]  \n",
       "2     [88, 7, 1]  \n",
       "3  [173, 17, 16]  \n",
       "4     [64, 7, 5]  "
      ]
     },
     "execution_count": 3,
     "metadata": {},
     "output_type": "execute_result"
    }
   ],
   "source": [
    "manga_df.head()"
   ]
  },
  {
   "cell_type": "markdown",
   "id": "9f68e771",
   "metadata": {},
   "source": [
    "### Total number of rows and columns of data"
   ]
  },
  {
   "cell_type": "code",
   "execution_count": 4,
   "id": "0ece0911",
   "metadata": {},
   "outputs": [
    {
     "name": "stdout",
     "output_type": "stream",
     "text": [
      "Data has 5000 rows and 16 columns\n"
     ]
    }
   ],
   "source": [
    "n_rows , n_cols = manga_df.shape\n",
    "print(f'Data has {n_rows} rows and {n_cols} columns')"
   ]
  },
  {
   "cell_type": "markdown",
   "id": "f34321de",
   "metadata": {},
   "source": [
    "### Meaning of each row and each column"
   ]
  },
  {
   "cell_type": "markdown",
   "id": "e2e15882",
   "metadata": {},
   "source": [
    "+ Each rows represents information about a manga series\n",
    "\n",
    "+ The following is the meaning of each column in the data"
   ]
  },
  {
   "cell_type": "markdown",
   "id": "b2219d8e",
   "metadata": {},
   "source": [
    "  | **COLUMN**            | **MEANING**                                                                                     |\n",
    "  |:----------------------|:------------------------------------------------------------------------------------------------|\n",
    "  |**`Title`**            | Title of the manga (written in English phonetic)                                                |\n",
    "  |**`Score`**            | Score on the MyAnimeList site (MAL)                                                             |\n",
    "  |**`Vote`**             | Number of readers voting for the manga                                                          |\n",
    "  |**`Ranked`**           | Ranking of manga on the web MyAnimeList (MAL)                                                   |\n",
    "  |**`Popularity`**       | The popularity of the manga                                                                     |\n",
    "  |**`Members`**          | Number of readers who have this manga in their list                                             |\n",
    "  |**`Favorite`**         | Number of readers who love this manga                                                           |\n",
    "  |**`Volumes`**          | Volume number of the manga                                                                      |\n",
    "  |**`Chapters`**         | Chapter number of the manga                                                                     |\n",
    "  |**`Status`**           | Status of the manga (ongoing, completed, on hiatus,...)                                         |\n",
    "  |**`Published`**        | Release time to the end time of the manga                                                       |\n",
    "  |**`Genres`**           | Genres of manga                                                                                 |\n",
    "  |**`Themes`**           | The themes of the manga                                                                         |\n",
    "  |**`Author`**           | Author information of the manga                                                                 |\n",
    "  |**`Total Review`**     | Number of readers leaving comments on the manga                                                 |\n",
    "  |**`Type Review`**      | Number of readers for each comment category (Recommended / Mixed feeling / Not recommended)     |\n",
    "  "
   ]
  },
  {
   "cell_type": "markdown",
   "id": "65e60d35",
   "metadata": {},
   "source": [
    "### Check and handle duplicates"
   ]
  },
  {
   "cell_type": "code",
   "execution_count": 5,
   "id": "303f758c",
   "metadata": {},
   "outputs": [
    {
     "name": "stdout",
     "output_type": "stream",
     "text": [
      "There are 0 rows that are duplicated, which means each row in the DataFrame is unique.\n",
      "So that we do not need to continue processing duplicate lines\n"
     ]
    }
   ],
   "source": [
    "duplicated_rows = manga_df.duplicated().sum()\n",
    "\n",
    "if duplicated_rows == 0:\n",
    "    print('There are 0 rows that are duplicated, which means each row in the DataFrame is unique.')\n",
    "    print('So that we do not need to continue processing duplicate lines')\n",
    "else:\n",
    "    print(f'There are {duplicated_rows} rows that are duplicated so we need to drop those {duplicated_rows} rows')\n",
    "    manga_df = manga_df.drop_duplicates()"
   ]
  },
  {
   "cell_type": "markdown",
   "id": "c807f480",
   "metadata": {},
   "source": [
    "### Check and handle data type of columns"
   ]
  },
  {
   "cell_type": "markdown",
   "id": "598b1298",
   "metadata": {},
   "source": [
    "Next, we calculate the data type (dtype) of each column in DataFrame `manga_df` and save the result into Series `dtypes` (This Series has the index as the column name)."
   ]
  },
  {
   "cell_type": "code",
   "execution_count": 6,
   "id": "4a9c9603",
   "metadata": {},
   "outputs": [
    {
     "data": {
      "text/plain": [
       "Title            object\n",
       "Score           float64\n",
       "Vote              int64\n",
       "Ranked            int64\n",
       "Popularity        int64\n",
       "Members          object\n",
       "Favorite         object\n",
       "Volumes          object\n",
       "Chapters         object\n",
       "Status           object\n",
       "Published        object\n",
       "Genres           object\n",
       "Themes           object\n",
       "Author           object\n",
       "Total Review      int64\n",
       "Type Review      object\n",
       "dtype: object"
      ]
     },
     "execution_count": 6,
     "metadata": {},
     "output_type": "execute_result"
    }
   ],
   "source": [
    "dtypes = manga_df.dtypes\n",
    "dtypes"
   ]
  },
  {
   "cell_type": "markdown",
   "id": "1f9d384c",
   "metadata": {},
   "source": [
    "To better understand columns of type `object`, we will analyze them into each subtype using function `open_object_dtype()`"
   ]
  },
  {
   "cell_type": "code",
   "execution_count": 7,
   "id": "606b8345",
   "metadata": {},
   "outputs": [],
   "source": [
    "def open_object_dtype(s):\n",
    "    dtypes = set()\n",
    "    dtypes.update(s.apply(type))\n",
    "    return dtypes"
   ]
  },
  {
   "cell_type": "markdown",
   "id": "d764e85f",
   "metadata": {},
   "source": [
    "Now, considering columns whose data type is object more clearly"
   ]
  },
  {
   "cell_type": "code",
   "execution_count": 8,
   "id": "84bdbe78",
   "metadata": {},
   "outputs": [
    {
     "data": {
      "text/plain": [
       "Title                           {<class 'str'>}\n",
       "Members                         {<class 'str'>}\n",
       "Favorite                        {<class 'str'>}\n",
       "Volumes                         {<class 'str'>}\n",
       "Chapters                        {<class 'str'>}\n",
       "Status                          {<class 'str'>}\n",
       "Published                       {<class 'str'>}\n",
       "Genres                          {<class 'str'>}\n",
       "Themes                          {<class 'str'>}\n",
       "Author         {<class 'str'>, <class 'float'>}\n",
       "Type Review                     {<class 'str'>}\n",
       "dtype: object"
      ]
     },
     "execution_count": 8,
     "metadata": {},
     "output_type": "execute_result"
    }
   ],
   "source": [
    "manga_df[manga_df.dtypes.index[manga_df.dtypes == object]].apply(open_object_dtype)"
   ]
  },
  {
   "cell_type": "markdown",
   "id": "5e4dbd67",
   "metadata": {},
   "source": [
    "Let's see which columns have appropriate data types and which columns do not"
   ]
  },
  {
   "cell_type": "markdown",
   "id": "d118f8db",
   "metadata": {},
   "source": [
    "+ Suitability: `Title`, `Score`, `Vote`, `Ranked`, `Popularity`, `Status` and `Total Review`\n",
    "\n",
    "+ Need to convert to **int**: `Members`, `Favorite`, `Volumes` and `Chapters`\n",
    "\n",
    "+ Need to convert to **list**: `Type Review`, `Genres` and `Themes`\n",
    "\n",
    "+ Need to convert to **str**: `Author` \n",
    "\n",
    "+ Need to convert to **datetime**: `Published`"
   ]
  },
  {
   "cell_type": "markdown",
   "id": "6e00ae3e",
   "metadata": {},
   "source": [
    "## Pre-processing data"
   ]
  },
  {
   "cell_type": "markdown",
   "id": "a042c840",
   "metadata": {},
   "source": [
    "### Normalizing columns (convert the data types of columns accordingly)"
   ]
  },
  {
   "cell_type": "markdown",
   "id": "d879bc60",
   "metadata": {},
   "source": [
    "Firstly, converting the data type of the columns to **int / float**"
   ]
  },
  {
   "cell_type": "code",
   "execution_count": 9,
   "id": "fdbdff74",
   "metadata": {},
   "outputs": [],
   "source": [
    "# Convert to int\n",
    "manga_df['Members'].replace(',','', regex=True, inplace=True)\n",
    "manga_df['Favorite'].replace(',','', regex=True, inplace=True)\n",
    "manga_df['Members'] = pd.to_numeric(manga_df['Members'], errors='coerce')\n",
    "manga_df['Favorite'] = pd.to_numeric(manga_df['Favorite'], errors='coerce')\n",
    "\n",
    "# Convert to float because type int does not contain NaN values\n",
    "manga_df['Volumes'] = pd.to_numeric(manga_df['Volumes'], errors='coerce')\n",
    "manga_df['Chapters'] = pd.to_numeric(manga_df['Chapters'], errors='coerce')\n"
   ]
  },
  {
   "cell_type": "markdown",
   "id": "e9f661bb",
   "metadata": {},
   "source": [
    "Let's check again data type of `Members`, `Favorite`, `Volumes` and `Chapters`"
   ]
  },
  {
   "cell_type": "code",
   "execution_count": 10,
   "id": "03fe3094",
   "metadata": {},
   "outputs": [
    {
     "data": {
      "text/plain": [
       "Members       int64\n",
       "Favorite      int64\n",
       "Volumes     float64\n",
       "Chapters    float64\n",
       "dtype: object"
      ]
     },
     "execution_count": 10,
     "metadata": {},
     "output_type": "execute_result"
    }
   ],
   "source": [
    "check = ['Members', 'Favorite', 'Volumes', 'Chapters']\n",
    "manga_df[check].dtypes"
   ]
  },
  {
   "cell_type": "markdown",
   "id": "58491684",
   "metadata": {},
   "source": [
    "Secondly, converting the data type of the columns to **list**"
   ]
  },
  {
   "cell_type": "code",
   "execution_count": 11,
   "id": "96507287",
   "metadata": {},
   "outputs": [],
   "source": [
    "manga_df[['Genres', 'Themes', 'Type Review']] = \\\n",
    "    manga_df[['Genres', 'Themes', 'Type Review']].apply(lambda col : col.apply(ast.literal_eval), axis=1)"
   ]
  },
  {
   "cell_type": "markdown",
   "id": "fe24aef0",
   "metadata": {},
   "source": [
    "+ Looking at the `Type Review` column, we see that the data type of this column is quite difficult to access (the column's data type is a list of 3 numbers representing the number of comments of three comment types: `Recommended`, `Mixed feelings` and `Not recommended`) so we will divide `Type Review` into 3 new columns: `Recommended`, `Mixed Feelings` and `Not Recommended`. \n",
    "+ After dividing into 3 new columns, the `Type Review` column will be removed from the data. \n",
    "+ Additionally, the `Total Review` column which is the sum of those 3 new columns will also be removed"
   ]
  },
  {
   "cell_type": "code",
   "execution_count": 12,
   "id": "74ad0fbe",
   "metadata": {},
   "outputs": [],
   "source": [
    "manga_df['Recommended'] = 0\n",
    "manga_df['Mixed Feelings'] = 0\n",
    "manga_df['Not Recommended'] = 0\n",
    "\n",
    "for row, i in zip(manga_df['Type Review'], manga_df.index):\n",
    "    manga_df['Recommended'][i] = row[0]\n",
    "    manga_df['Mixed Feelings'][i] = row[1]\n",
    "    manga_df['Not Recommended'][i] = row[2]"
   ]
  },
  {
   "cell_type": "markdown",
   "id": "2f4f9114",
   "metadata": {},
   "source": [
    "Before deleting column `Total Review`, we check whether the data collected is reasonable"
   ]
  },
  {
   "cell_type": "code",
   "execution_count": 13,
   "id": "6298b97e",
   "metadata": {},
   "outputs": [],
   "source": [
    "def checking_reviews(df: pd.DataFrame) -> bool:\n",
    "    return df[\"Total Review\"].equals((df[\"Recommended\"] + df[\"Mixed Feelings\"] + df[\"Not Recommended\"]))"
   ]
  },
  {
   "cell_type": "code",
   "execution_count": 14,
   "id": "a3fedf65",
   "metadata": {},
   "outputs": [
    {
     "data": {
      "text/plain": [
       "True"
      ]
     },
     "execution_count": 14,
     "metadata": {},
     "output_type": "execute_result"
    }
   ],
   "source": [
    "checking_reviews(manga_df)==True"
   ]
  },
  {
   "cell_type": "markdown",
   "id": "4288221c",
   "metadata": {},
   "source": [
    "Because the `Total Review` column is the sum of the 3 columns we just created (checked to be True above), we will delete the `Total Review` column from the data."
   ]
  },
  {
   "cell_type": "code",
   "execution_count": 15,
   "id": "f5816870",
   "metadata": {},
   "outputs": [],
   "source": [
    "manga_df = manga_df.drop(columns=['Type Review', 'Total Review'])"
   ]
  },
  {
   "cell_type": "markdown",
   "id": "5ce200b4",
   "metadata": {},
   "source": [
    "Let's check the data type of the 3 newly created columns"
   ]
  },
  {
   "cell_type": "code",
   "execution_count": 16,
   "id": "f78ac00f",
   "metadata": {},
   "outputs": [
    {
     "data": {
      "text/plain": [
       "Recommended        int64\n",
       "Mixed Feelings     int64\n",
       "Not Recommended    int64\n",
       "dtype: object"
      ]
     },
     "execution_count": 16,
     "metadata": {},
     "output_type": "execute_result"
    }
   ],
   "source": [
    "check = ['Recommended', 'Mixed Feelings', 'Not Recommended']\n",
    "manga_df[check].dtypes"
   ]
  },
  {
   "cell_type": "markdown",
   "id": "3b1aa591",
   "metadata": {},
   "source": [
    "Thirdly, converting the data type of the columns to **datetime**"
   ]
  },
  {
   "cell_type": "markdown",
   "id": "d6a8cf45",
   "metadata": {},
   "source": [
    "Because the `Published` column is quite difficult to store during discovery and continuing with the following steps (the data in the column is `release date to end date`), we will split the `Published` column into 2 new columns. is column `Release date` and column `Completed date` and remove column `Published`"
   ]
  },
  {
   "cell_type": "code",
   "execution_count": 17,
   "id": "08284f6c",
   "metadata": {},
   "outputs": [],
   "source": [
    "start = []\n",
    "end = []\n",
    "for row in manga_df['Published']:\n",
    "    try:\n",
    "        s, e = row.split(' to ')\n",
    "        start.append(s)\n",
    "        end.append(e)\n",
    "    except:\n",
    "        s = np.nan\n",
    "        e = np.nan\n",
    "        start.append(s)\n",
    "        end.append(e)\n",
    "\n",
    "manga_df['Release date'] = pd.DataFrame(start)\n",
    "manga_df['Completed date'] = pd.DataFrame(end)\n",
    "\n",
    "manga_df['Release date'] = pd.to_datetime(manga_df['Release date'], format='%b %d, %Y', errors='coerce')\n",
    "manga_df['Completed date'] = pd.to_datetime(manga_df['Completed date'], format='%b %d, %Y', errors='coerce')\n",
    "\n",
    "manga_df = manga_df.drop(columns='Published')"
   ]
  },
  {
   "cell_type": "markdown",
   "id": "ad1d9738",
   "metadata": {},
   "source": [
    "Let's data type of `Release date` and `Completed date`"
   ]
  },
  {
   "cell_type": "code",
   "execution_count": 18,
   "id": "599a5ff6",
   "metadata": {},
   "outputs": [
    {
     "data": {
      "text/plain": [
       "Release date      datetime64[ns]\n",
       "Completed date    datetime64[ns]\n",
       "dtype: object"
      ]
     },
     "execution_count": 18,
     "metadata": {},
     "output_type": "execute_result"
    }
   ],
   "source": [
    "check = ['Release date', 'Completed date']\n",
    "manga_df[check].dtypes"
   ]
  },
  {
   "cell_type": "markdown",
   "id": "0f2804e9",
   "metadata": {},
   "source": [
    "Finally, converting the data type of the columns to **string**"
   ]
  },
  {
   "cell_type": "code",
   "execution_count": 19,
   "id": "1131f0ff",
   "metadata": {},
   "outputs": [],
   "source": [
    "# Converted to str, any value that is str remains the same and any value that is NaN is converted to an empty string\n",
    "manga_df['Author'] = manga_df['Author'].replace(to_replace=np.nan, value='')"
   ]
  },
  {
   "cell_type": "markdown",
   "id": "0145808e",
   "metadata": {},
   "source": [
    "Now, checking all data type columns after conversion"
   ]
  },
  {
   "cell_type": "code",
   "execution_count": 20,
   "id": "859d47ef",
   "metadata": {},
   "outputs": [
    {
     "data": {
      "text/plain": [
       "Title                                                {<class 'str'>}\n",
       "Score                                              {<class 'float'>}\n",
       "Vote                                                 {<class 'int'>}\n",
       "Ranked                                               {<class 'int'>}\n",
       "Popularity                                           {<class 'int'>}\n",
       "Members                                              {<class 'int'>}\n",
       "Favorite                                             {<class 'int'>}\n",
       "Volumes                                            {<class 'float'>}\n",
       "Chapters                                           {<class 'float'>}\n",
       "Status                                               {<class 'str'>}\n",
       "Genres                                              {<class 'list'>}\n",
       "Themes                                              {<class 'list'>}\n",
       "Author                                               {<class 'str'>}\n",
       "Recommended                                          {<class 'int'>}\n",
       "Mixed Feelings                                       {<class 'int'>}\n",
       "Not Recommended                                      {<class 'int'>}\n",
       "Release date       {<class 'pandas._libs.tslibs.timestamps.Timest...\n",
       "Completed date     {<class 'pandas._libs.tslibs.timestamps.Timest...\n",
       "dtype: object"
      ]
     },
     "execution_count": 20,
     "metadata": {},
     "output_type": "execute_result"
    }
   ],
   "source": [
    "manga_df.apply(open_object_dtype)"
   ]
  },
  {
   "cell_type": "markdown",
   "id": "febf529f",
   "metadata": {},
   "source": [
    "## Exploring data (distribution of values)"
   ]
  },
  {
   "cell_type": "markdown",
   "id": "56ec676e",
   "metadata": {},
   "source": [
    "### Distribution of numeric columns"
   ]
  },
  {
   "cell_type": "markdown",
   "id": "e964fa68",
   "metadata": {},
   "source": [
    "Columns have numeric data types: \n",
    "+ `Score`\n",
    "+ `Vote`\n",
    "+ `Ranked`\n",
    "+ `Popularity`\n",
    "+ `Members`\n",
    "+ `Favorite`\n",
    "+ `Volumes`\n",
    "+ `Chapters`\n",
    "+ `Recommended`\n",
    "+ `Mixed Feelings`\n",
    "+ `Not Recommended`\n",
    "+ `Release date`\n",
    "+ `Completed date`"
   ]
  },
  {
   "cell_type": "markdown",
   "id": "8ccf7bb7",
   "metadata": {},
   "source": [
    "For columns with numeric data types, we will calculate:\n",
    "- Percentage (from 0 to 100) of missing values\n",
    "- The min\n",
    "- The lower quartile \n",
    "- The median \n",
    "- The upper quartile \n",
    "- The max\n",
    "\n",
    "We will save the results to a DataFrame `num_col_dist_df`, where:\n",
    "- The names of the columns are the names of the numeric columns in `manga_df`\n",
    "- Names of rows: \"missing_ratio\", \"min\", \"lower_quartile\", \"median\", \"upper_quartile\", \"max\"  \n"
   ]
  },
  {
   "cell_type": "code",
   "execution_count": 21,
   "id": "779f7215",
   "metadata": {},
   "outputs": [
    {
     "data": {
      "text/html": [
       "<div>\n",
       "<style scoped>\n",
       "    .dataframe tbody tr th:only-of-type {\n",
       "        vertical-align: middle;\n",
       "    }\n",
       "\n",
       "    .dataframe tbody tr th {\n",
       "        vertical-align: top;\n",
       "    }\n",
       "\n",
       "    .dataframe thead th {\n",
       "        text-align: right;\n",
       "    }\n",
       "</style>\n",
       "<table border=\"1\" class=\"dataframe\">\n",
       "  <thead>\n",
       "    <tr style=\"text-align: right;\">\n",
       "      <th></th>\n",
       "      <th>Score</th>\n",
       "      <th>Vote</th>\n",
       "      <th>Ranked</th>\n",
       "      <th>Popularity</th>\n",
       "      <th>Members</th>\n",
       "      <th>Favorite</th>\n",
       "      <th>Volumes</th>\n",
       "      <th>Chapters</th>\n",
       "      <th>Recommended</th>\n",
       "      <th>Mixed Feelings</th>\n",
       "      <th>Not Recommended</th>\n",
       "      <th>Release date</th>\n",
       "      <th>Completed date</th>\n",
       "    </tr>\n",
       "  </thead>\n",
       "  <tbody>\n",
       "    <tr>\n",
       "      <th>missing_ratio</th>\n",
       "      <td>0.00</td>\n",
       "      <td>0.00</td>\n",
       "      <td>0.00</td>\n",
       "      <td>0.00</td>\n",
       "      <td>0.00</td>\n",
       "      <td>0.0</td>\n",
       "      <td>27.4</td>\n",
       "      <td>27.56</td>\n",
       "      <td>0.0</td>\n",
       "      <td>0.0</td>\n",
       "      <td>0.0</td>\n",
       "      <td>19.44</td>\n",
       "      <td>41.32</td>\n",
       "    </tr>\n",
       "    <tr>\n",
       "      <th>min</th>\n",
       "      <td>7.27</td>\n",
       "      <td>101.00</td>\n",
       "      <td>1.00</td>\n",
       "      <td>1.00</td>\n",
       "      <td>222.00</td>\n",
       "      <td>0.0</td>\n",
       "      <td>1.0</td>\n",
       "      <td>1.00</td>\n",
       "      <td>0.0</td>\n",
       "      <td>0.0</td>\n",
       "      <td>0.0</td>\n",
       "      <td>1962-12-03 00:00:00</td>\n",
       "      <td>1966-05-08 00:00:00</td>\n",
       "    </tr>\n",
       "    <tr>\n",
       "      <th>lower_quartile</th>\n",
       "      <td>7.39</td>\n",
       "      <td>540.00</td>\n",
       "      <td>1250.75</td>\n",
       "      <td>1642.75</td>\n",
       "      <td>2032.75</td>\n",
       "      <td>19.0</td>\n",
       "      <td>2.0</td>\n",
       "      <td>13.00</td>\n",
       "      <td>1.0</td>\n",
       "      <td>0.0</td>\n",
       "      <td>0.0</td>\n",
       "      <td>2007-06-04 06:00:00</td>\n",
       "      <td>2009-11-25 06:00:00</td>\n",
       "    </tr>\n",
       "    <tr>\n",
       "      <th>median</th>\n",
       "      <td>7.56</td>\n",
       "      <td>1459.50</td>\n",
       "      <td>2500.50</td>\n",
       "      <td>4200.00</td>\n",
       "      <td>4632.50</td>\n",
       "      <td>55.0</td>\n",
       "      <td>6.0</td>\n",
       "      <td>35.00</td>\n",
       "      <td>2.0</td>\n",
       "      <td>0.0</td>\n",
       "      <td>0.0</td>\n",
       "      <td>2012-12-13 12:00:00</td>\n",
       "      <td>2014-10-10 00:00:00</td>\n",
       "    </tr>\n",
       "    <tr>\n",
       "      <th>upper_quartile</th>\n",
       "      <td>7.81</td>\n",
       "      <td>4004.75</td>\n",
       "      <td>3750.25</td>\n",
       "      <td>8545.00</td>\n",
       "      <td>11640.00</td>\n",
       "      <td>211.0</td>\n",
       "      <td>12.0</td>\n",
       "      <td>80.00</td>\n",
       "      <td>5.0</td>\n",
       "      <td>1.0</td>\n",
       "      <td>0.0</td>\n",
       "      <td>2017-11-24 06:00:00</td>\n",
       "      <td>2018-12-15 00:00:00</td>\n",
       "    </tr>\n",
       "    <tr>\n",
       "      <th>max</th>\n",
       "      <td>9.47</td>\n",
       "      <td>400237.00</td>\n",
       "      <td>5001.00</td>\n",
       "      <td>31381.00</td>\n",
       "      <td>664507.00</td>\n",
       "      <td>122709.0</td>\n",
       "      <td>200.0</td>\n",
       "      <td>1957.00</td>\n",
       "      <td>280.0</td>\n",
       "      <td>56.0</td>\n",
       "      <td>112.0</td>\n",
       "      <td>2023-11-06 00:00:00</td>\n",
       "      <td>2023-11-25 00:00:00</td>\n",
       "    </tr>\n",
       "  </tbody>\n",
       "</table>\n",
       "</div>"
      ],
      "text/plain": [
       "                Score       Vote   Ranked  Popularity    Members  Favorite  \\\n",
       "missing_ratio    0.00       0.00     0.00        0.00       0.00       0.0   \n",
       "min              7.27     101.00     1.00        1.00     222.00       0.0   \n",
       "lower_quartile   7.39     540.00  1250.75     1642.75    2032.75      19.0   \n",
       "median           7.56    1459.50  2500.50     4200.00    4632.50      55.0   \n",
       "upper_quartile   7.81    4004.75  3750.25     8545.00   11640.00     211.0   \n",
       "max              9.47  400237.00  5001.00    31381.00  664507.00  122709.0   \n",
       "\n",
       "                Volumes  Chapters  Recommended  Mixed Feelings  \\\n",
       "missing_ratio      27.4     27.56          0.0             0.0   \n",
       "min                 1.0      1.00          0.0             0.0   \n",
       "lower_quartile      2.0     13.00          1.0             0.0   \n",
       "median              6.0     35.00          2.0             0.0   \n",
       "upper_quartile     12.0     80.00          5.0             1.0   \n",
       "max               200.0   1957.00        280.0            56.0   \n",
       "\n",
       "                Not Recommended         Release date       Completed date  \n",
       "missing_ratio               0.0                19.44                41.32  \n",
       "min                         0.0  1962-12-03 00:00:00  1966-05-08 00:00:00  \n",
       "lower_quartile              0.0  2007-06-04 06:00:00  2009-11-25 06:00:00  \n",
       "median                      0.0  2012-12-13 12:00:00  2014-10-10 00:00:00  \n",
       "upper_quartile              0.0  2017-11-24 06:00:00  2018-12-15 00:00:00  \n",
       "max                       112.0  2023-11-06 00:00:00  2023-11-25 00:00:00  "
      ]
     },
     "execution_count": 21,
     "metadata": {},
     "output_type": "execute_result"
    }
   ],
   "source": [
    "num_col_dist_df = manga_df[['Score','Vote','Ranked','Popularity','Members','Favorite','Volumes','Chapters','Recommended','Mixed Feelings','Not Recommended', 'Release date', 'Completed date']]\n",
    "\n",
    "def missing_ratio(s):\n",
    "    return (s.isna().mean() * 100)\n",
    "\n",
    "def median(df):\n",
    "    return (df.quantile(0.5))\n",
    "\n",
    "def lower_quartile(df):\n",
    "    return (df.quantile(0.25))\n",
    "\n",
    "def upper_quartile(df):\n",
    "    return (df.quantile(0.75))\n",
    "\n",
    "num_col_dist_df = num_col_dist_df.agg([missing_ratio, \"min\", lower_quartile, median, upper_quartile, \"max\"])\n",
    "num_col_dist_df"
   ]
  },
  {
   "cell_type": "markdown",
   "id": "cdc2b27a",
   "metadata": {},
   "source": [
    "As we can see:\n",
    "+ About missing percentage:\n",
    "    + All columns except `Volumes` and `Chapters` have full data\n",
    "    \n",
    "    + The column `Volumes` has **27.4%** of the total values missing. While the `Chapters` column is **27.6%**. It can be seen that the missing rate of these two columns is not too high and is acceptable. Columns `Volumes` and `Chapters` are missing mainly due to their `Status` (incomplete, on hold, on hiatus,...), because these two columns only display volume and chapter numbers when that set has ended (completed or stopped indefinitely).\n",
    "    \n",
    "    + `Release date` is missing 19.4% of the data, likely because the information is not available or the manga has not been released yet.\n",
    "    \n",
    "     + `Completed date` is missing a lot, more than 40%. The reason may be that the manga is not completed or there is no information.\n",
    "     \n",
    "+ About min, median, lower_quartile, upper_quartile and max:\n",
    "     + Except for the `Score` column, numeric columns all have very wide ranges\n",
    "     \n",
    "     + The manga series in the data were all released between December 1962 and November 2023.\n",
    "     \n",
    "     + If the manga series in the data have been completed, they were all completed between May 1966 and November 2023."
   ]
  },
  {
   "cell_type": "code",
   "execution_count": 22,
   "id": "7d878785",
   "metadata": {},
   "outputs": [
    {
     "data": {
      "text/plain": [
       "(array(['Discontinued', 'Finished', 'On Hiatus', 'Publishing'],\n",
       "       dtype=object),\n",
       " array([   1,  211,    4, 1154], dtype=int64))"
      ]
     },
     "execution_count": 22,
     "metadata": {},
     "output_type": "execute_result"
    }
   ],
   "source": [
    "# Missing manga volume number column grouped by status\n",
    "np.unique(manga_df['Status'][manga_df['Volumes'].isna()], return_counts=True)"
   ]
  },
  {
   "cell_type": "code",
   "execution_count": 23,
   "id": "354badf1",
   "metadata": {},
   "outputs": [
    {
     "data": {
      "text/plain": [
       "(array(['Discontinued', 'Finished', 'On Hiatus', 'Publishing'],\n",
       "       dtype=object),\n",
       " array([   1,  210,   14, 1153], dtype=int64))"
      ]
     },
     "execution_count": 23,
     "metadata": {},
     "output_type": "execute_result"
    }
   ],
   "source": [
    "# Missing manga chapter number column grouped by status\n",
    "np.unique(manga_df['Status'][manga_df['Chapters'].isna()], return_counts=True)"
   ]
  },
  {
   "cell_type": "markdown",
   "id": "4ab8fe0d",
   "metadata": {},
   "source": [
    "+ As mentioned above, the manga is missing chapters or volumes because it is not yet completed and are in progress (Publishing). `Chapters` and `Volumes` will be updated when the manga is completed or discontinued.\n",
    "\n",
    "+ For manga that only have 'Chapters' but no 'Volumes', the biggest reason is one-shot manga series (series with only 1 chapter) so there will be no volumes. Such one-shot manga make up a large proportion on MAL.\n",
    "\n",
    "+ For manga that only have 'Volumes' but no 'Chapters', the biggest reason is that light novels (light_novels or novels) are often published in volumes and the author does not divide chapters when writing. There are also many novel series on MAL."
   ]
  },
  {
   "cell_type": "markdown",
   "id": "43f0a465",
   "metadata": {},
   "source": [
    "Next, after identifying the basic statistical numbers that describe our data, we further need to determine the features that have a large number of missing values. Such features are not useful for the analysis stage and must be removed from the dataset.\n",
    "\n",
    "We decided that if the percentage of missing values is greater than 75%, the column is dropped from the dataframe and an updated dataframe is returned."
   ]
  },
  {
   "cell_type": "code",
   "execution_count": 24,
   "id": "1302f8fc",
   "metadata": {},
   "outputs": [],
   "source": [
    "def drop_missing_features(df: pd.DataFrame, missing_lst: dict = dict(num_col_dist_df.iloc[0]), threshold: float = 75.0) -> pd.DataFrame:\n",
    "    if (df is None) or (missing_lst is None) or (threshold is None):\n",
    "        print(f\"[LOG] Invalid.\")\n",
    "        raise ValueError\n",
    "    \n",
    "    # Create a copy of the dataframe to avoid changing the original\n",
    "    df_cp = df.copy()\n",
    "    \n",
    "    # List to maintain the columns to drop\n",
    "    cols_to_trim = []\n",
    "    \n",
    "    for key, value in missing_lst.items():\n",
    "        if float(value) > threshold:\n",
    "            cols_to_trim.append(key)\n",
    "            \n",
    "    if len(cols_to_trim) > 0:\n",
    "        # drop the columns identified using the dataframe drop() method\n",
    "        df_cp = df_cp.drop(columns=cols_to_trim)\n",
    "        print(\"[LOG] Dropped columns: \" + \" \".join(cols_to_trim))\n",
    "    else:\n",
    "        print(\"[LOG] Have no columns to trim.\")\n",
    "        \n",
    "    return df_cp"
   ]
  },
  {
   "cell_type": "code",
   "execution_count": 25,
   "id": "4d642885",
   "metadata": {},
   "outputs": [
    {
     "name": "stdout",
     "output_type": "stream",
     "text": [
      "[LOG] Have no columns to trim.\n"
     ]
    }
   ],
   "source": [
    "manga_df = drop_missing_features(manga_df, dict(num_col_dist_df.iloc[0]))"
   ]
  },
  {
   "cell_type": "markdown",
   "id": "241a8529",
   "metadata": {},
   "source": [
    "After remove features which have large missing values, our dataframe still have missing values. So that, we need to fill these missing values so that they can be used in analysis.\n",
    "\n",
    "We fill these missing values with the **median** of the column values."
   ]
  },
  {
   "cell_type": "code",
   "execution_count": 26,
   "id": "1bd4b2e7",
   "metadata": {},
   "outputs": [],
   "source": [
    "def filling_missing_value(df: pd.DataFrame) -> pd.DataFrame:\n",
    "    if (df is None):\n",
    "        print(f\"[LOG] Invalid.\")\n",
    "        raise ValueError\n",
    "    \n",
    "    # Create a copy of the dataframe to avoid changing the original\n",
    "    df_cp = df.copy()\n",
    "    \n",
    "    # Get the list of columns in the dataframe\n",
    "    cols_list = list(df_cp.columns)\n",
    "    \n",
    "    # Exclude the last column - Country, Year\n",
    "    cols_list.remove(\"Title\")\n",
    "    cols_list.remove(\"Status\")\n",
    "    cols_list.remove(\"Genres\")\n",
    "    cols_list.remove(\"Themes\")\n",
    "    cols_list.remove(\"Author\")\n",
    "    cols_list.remove(\"Release date\")\n",
    "    cols_list.remove(\"Completed date\")\n",
    "    \n",
    "    # Replace all None values with NaN, fillna only works on nans\n",
    "    df_cp.fillna(value=np.nan, inplace=True)\n",
    "    \n",
    "    # Replace all NaN values with the median of the column values\n",
    "    for col in cols_list:\n",
    "        df_cp[col].fillna((df_cp[col].median()), inplace=True)\n",
    "        \n",
    "    return df_cp"
   ]
  },
  {
   "cell_type": "code",
   "execution_count": 27,
   "id": "10eba858",
   "metadata": {},
   "outputs": [],
   "source": [
    "manga_df = filling_missing_value(df=manga_df)"
   ]
  },
  {
   "cell_type": "markdown",
   "id": "9586e9a6",
   "metadata": {},
   "source": [
    "## Distribution of non-numeric columns"
   ]
  },
  {
   "cell_type": "markdown",
   "id": "88f6e353",
   "metadata": {},
   "source": [
    "Columns have non-numeric data types: \n",
    "\n",
    "+ `Title`\n",
    "+ `Status`\n",
    "+ `Genres`\n",
    "+ `Themes`\n",
    "+ `Author`\n"
   ]
  },
  {
   "cell_type": "markdown",
   "id": "a3fe6527",
   "metadata": {},
   "source": [
    "For columns with non-numeric data types, we calculate:\n",
    "- Percentage (from 0 to 100) of missing values\n",
    "- Number of values (the values here are different values and we do not consider missing values)\n",
    "- The percentage (from 0 to 100) of each value is sorted by decreasing percentage (we do not consider missing values, the ratio is the ratio compared to the number of non-missing values)\n"
   ]
  },
  {
   "cell_type": "markdown",
   "id": "91142003",
   "metadata": {},
   "source": [
    "### Considering columns of type string:  `Title`, `Status`, `Author`"
   ]
  },
  {
   "cell_type": "code",
   "execution_count": 28,
   "id": "d804c211",
   "metadata": {},
   "outputs": [
    {
     "data": {
      "text/html": [
       "<div>\n",
       "<style scoped>\n",
       "    .dataframe tbody tr th:only-of-type {\n",
       "        vertical-align: middle;\n",
       "    }\n",
       "\n",
       "    .dataframe tbody tr th {\n",
       "        vertical-align: top;\n",
       "    }\n",
       "\n",
       "    .dataframe thead th {\n",
       "        text-align: right;\n",
       "    }\n",
       "</style>\n",
       "<table border=\"1\" class=\"dataframe\">\n",
       "  <thead>\n",
       "    <tr style=\"text-align: right;\">\n",
       "      <th></th>\n",
       "      <th>Title</th>\n",
       "      <th>Status</th>\n",
       "      <th>Author</th>\n",
       "    </tr>\n",
       "  </thead>\n",
       "  <tbody>\n",
       "    <tr>\n",
       "      <th>Missing_ratio</th>\n",
       "      <td>0.0</td>\n",
       "      <td>0.0</td>\n",
       "      <td>0.04</td>\n",
       "    </tr>\n",
       "    <tr>\n",
       "      <th>Num_diff_vals</th>\n",
       "      <td>4830</td>\n",
       "      <td>4</td>\n",
       "      <td>3514</td>\n",
       "    </tr>\n",
       "    <tr>\n",
       "      <th>Diff_vals</th>\n",
       "      <td>[Berserk, JoJo no Kimyou na Bouken Part 7: Ste...</td>\n",
       "      <td>[Publishing, Finished, On Hiatus, Discontinued]</td>\n",
       "      <td>[Miura, Kentarou (Story &amp; Art), Studio Gaga (A...</td>\n",
       "    </tr>\n",
       "  </tbody>\n",
       "</table>\n",
       "</div>"
      ],
      "text/plain": [
       "                                                           Title  \\\n",
       "Missing_ratio                                                0.0   \n",
       "Num_diff_vals                                               4830   \n",
       "Diff_vals      [Berserk, JoJo no Kimyou na Bouken Part 7: Ste...   \n",
       "\n",
       "                                                        Status  \\\n",
       "Missing_ratio                                              0.0   \n",
       "Num_diff_vals                                                4   \n",
       "Diff_vals      [Publishing, Finished, On Hiatus, Discontinued]   \n",
       "\n",
       "                                                          Author  \n",
       "Missing_ratio                                               0.04  \n",
       "Num_diff_vals                                               3514  \n",
       "Diff_vals      [Miura, Kentarou (Story & Art), Studio Gaga (A...  "
      ]
     },
     "execution_count": 28,
     "metadata": {},
     "output_type": "execute_result"
    }
   ],
   "source": [
    "str_col_dist_df = pd.DataFrame({'Title': [.0] * 3,\n",
    "                                'Status': [.0] * 3,\n",
    "                                'Author': [.0] * 3},\n",
    "                                index=['Missing_ratio', 'Num_diff_vals', 'Diff_vals'], dtype=object)\n",
    "\n",
    "str_col_dist_df.loc['Missing_ratio'] = np.sum(manga_df[str_col_dist_df.columns] == '', axis=0) / manga_df.shape[0] * 100\n",
    "str_col_dist_df.loc['Num_diff_vals'] = manga_df[str_col_dist_df.columns][manga_df[str_col_dist_df.columns] != ''].nunique()\n",
    "str_col_dist_df.loc['Diff_vals'] = manga_df[str_col_dist_df.columns].apply(lambda col: col[col != ''].unique())\n",
    "str_col_dist_df"
   ]
  },
  {
   "cell_type": "markdown",
   "id": "911870ef",
   "metadata": {},
   "source": [
    "*General views:*\n",
    "\n",
    "+ About Missing_ratio:\n",
    "     + The `Title` column and `Status` column have full data\n",
    "     + The `Author` column is missing 0.04% of data, this percentage is very small and can be considered quite complete data\n",
    "     \n",
    "+ About Num_diff_vals and Diff_vals:\n",
    "     + There are still manga series with duplicate titles because the Num_diff_vals of the `Title` column is 4830 while there are 5000 lines of data and this column is not missing data.\n",
    "     + The `Author` column still has overlap\n",
    "     + The `Status` column includes 4 status: Publishing, Finished, On Hiatus, Discontinued"
   ]
  },
  {
   "cell_type": "markdown",
   "id": "40365459",
   "metadata": {},
   "source": [
    "**`Tittle`** has 170 most appearances"
   ]
  },
  {
   "cell_type": "code",
   "execution_count": 29,
   "id": "bc18898f",
   "metadata": {},
   "outputs": [
    {
     "data": {
      "text/html": [
       "<div>\n",
       "<style scoped>\n",
       "    .dataframe tbody tr th:only-of-type {\n",
       "        vertical-align: middle;\n",
       "    }\n",
       "\n",
       "    .dataframe tbody tr th {\n",
       "        vertical-align: top;\n",
       "    }\n",
       "\n",
       "    .dataframe thead th {\n",
       "        text-align: right;\n",
       "    }\n",
       "</style>\n",
       "<table border=\"1\" class=\"dataframe\">\n",
       "  <thead>\n",
       "    <tr style=\"text-align: right;\">\n",
       "      <th></th>\n",
       "      <th>Title</th>\n",
       "    </tr>\n",
       "  </thead>\n",
       "  <tbody>\n",
       "    <tr>\n",
       "      <th>0</th>\n",
       "      <td>8686—Eighty-Six</td>\n",
       "    </tr>\n",
       "    <tr>\n",
       "      <th>1</th>\n",
       "      <td>Adachi to ShimamuraAdachi and Shimamura</td>\n",
       "    </tr>\n",
       "    <tr>\n",
       "      <th>2</th>\n",
       "      <td>Akuyaku Reijou nanode Last Boss wo Kattemimash...</td>\n",
       "    </tr>\n",
       "    <tr>\n",
       "      <th>3</th>\n",
       "      <td>All You Need Is Kill</td>\n",
       "    </tr>\n",
       "    <tr>\n",
       "      <th>4</th>\n",
       "      <td>Ano Hi Mita Hana no Namae wo Bokutachi wa Mada...</td>\n",
       "    </tr>\n",
       "    <tr>\n",
       "      <th>...</th>\n",
       "      <td>...</td>\n",
       "    </tr>\n",
       "    <tr>\n",
       "      <th>165</th>\n",
       "      <td>Watashi ga Koibito ni Nareru Wake Nai jan, Mur...</td>\n",
       "    </tr>\n",
       "    <tr>\n",
       "      <th>166</th>\n",
       "      <td>Watashi no Shiawase na KekkonMy Happy Marriage</td>\n",
       "    </tr>\n",
       "    <tr>\n",
       "      <th>167</th>\n",
       "      <td>Wind Breaker</td>\n",
       "    </tr>\n",
       "    <tr>\n",
       "      <th>168</th>\n",
       "      <td>Youjo SenkiThe Saga of Tanya the Evil</td>\n",
       "    </tr>\n",
       "    <tr>\n",
       "      <th>169</th>\n",
       "      <td>½ Prince</td>\n",
       "    </tr>\n",
       "  </tbody>\n",
       "</table>\n",
       "<p>170 rows × 1 columns</p>\n",
       "</div>"
      ],
      "text/plain": [
       "                                                 Title\n",
       "0                                      8686—Eighty-Six\n",
       "1              Adachi to ShimamuraAdachi and Shimamura\n",
       "2    Akuyaku Reijou nanode Last Boss wo Kattemimash...\n",
       "3                                 All You Need Is Kill\n",
       "4    Ano Hi Mita Hana no Namae wo Bokutachi wa Mada...\n",
       "..                                                 ...\n",
       "165  Watashi ga Koibito ni Nareru Wake Nai jan, Mur...\n",
       "166     Watashi no Shiawase na KekkonMy Happy Marriage\n",
       "167                                       Wind Breaker\n",
       "168              Youjo SenkiThe Saga of Tanya the Evil\n",
       "169                                           ½ Prince\n",
       "\n",
       "[170 rows x 1 columns]"
      ]
     },
     "execution_count": 29,
     "metadata": {},
     "output_type": "execute_result"
    }
   ],
   "source": [
    "manga_df[['Title']].mode()"
   ]
  },
  {
   "cell_type": "markdown",
   "id": "981ac99b",
   "metadata": {},
   "source": [
    "**`Status`** finished is the most common"
   ]
  },
  {
   "cell_type": "code",
   "execution_count": 30,
   "id": "852a0fe8",
   "metadata": {},
   "outputs": [
    {
     "data": {
      "image/png": "[encoded data removed]",
      "text/plain": [
       "<Figure size 640x480 with 1 Axes>"
      ]
     },
     "metadata": {},
     "output_type": "display_data"
    }
   ],
   "source": [
    "plt.pie(manga_df.groupby('Status')['Status'].count().values, labels=manga_df.groupby('Status')['Status'].count().index, autopct = '%.1f%%');"
   ]
  },
  {
   "cell_type": "markdown",
   "id": "3eea20f0",
   "metadata": {},
   "source": [
    "The most frequently appearing **`Author`** is Tezuka, Osamu (Story & Art)"
   ]
  },
  {
   "cell_type": "code",
   "execution_count": 31,
   "id": "8dc94c45",
   "metadata": {},
   "outputs": [
    {
     "data": {
      "text/html": [
       "<div>\n",
       "<style scoped>\n",
       "    .dataframe tbody tr th:only-of-type {\n",
       "        vertical-align: middle;\n",
       "    }\n",
       "\n",
       "    .dataframe tbody tr th {\n",
       "        vertical-align: top;\n",
       "    }\n",
       "\n",
       "    .dataframe thead th {\n",
       "        text-align: right;\n",
       "    }\n",
       "</style>\n",
       "<table border=\"1\" class=\"dataframe\">\n",
       "  <thead>\n",
       "    <tr style=\"text-align: right;\">\n",
       "      <th></th>\n",
       "      <th>Author</th>\n",
       "    </tr>\n",
       "  </thead>\n",
       "  <tbody>\n",
       "    <tr>\n",
       "      <th>0</th>\n",
       "      <td>Tezuka, Osamu (Story &amp; Art)</td>\n",
       "    </tr>\n",
       "  </tbody>\n",
       "</table>\n",
       "</div>"
      ],
      "text/plain": [
       "                        Author\n",
       "0  Tezuka, Osamu (Story & Art)"
      ]
     },
     "execution_count": 31,
     "metadata": {},
     "output_type": "execute_result"
    }
   ],
   "source": [
    "manga_df[['Author']].mode()"
   ]
  },
  {
   "cell_type": "markdown",
   "id": "a018fefb",
   "metadata": {},
   "source": [
    "### Considering columns of type list:  `Genres`, `Themes`"
   ]
  },
  {
   "cell_type": "markdown",
   "id": "58a29133",
   "metadata": {},
   "source": [
    "With the columns representing the classification and each row in that column will be a list (combination of classifications), we will concatenate the lists (in each column) together and use unique to calculate the `diff_vals` for each column, `num_diff_vals` will be the length of the calculated `diff_vals` and `missing_ratio` will be the ratio of rows with empty lists for each column"
   ]
  },
  {
   "cell_type": "code",
   "execution_count": 32,
   "id": "0aadc715",
   "metadata": {},
   "outputs": [
    {
     "name": "stderr",
     "output_type": "stream",
     "text": [
      "C:\\Users\\Admin\\anaconda3\\envs\\min_ds-env\\lib\\site-packages\\numpy\\core\\fromnumeric.py:86: FutureWarning: The behavior of DataFrame.sum with axis=None is deprecated, in a future version this will reduce over both axes and return a scalar. To retain the old behavior, pass axis=0 (or do not pass axis)\n",
      "  return reduction(axis=axis, out=out, **passkwargs)\n"
     ]
    },
    {
     "data": {
      "text/html": [
       "<div>\n",
       "<style scoped>\n",
       "    .dataframe tbody tr th:only-of-type {\n",
       "        vertical-align: middle;\n",
       "    }\n",
       "\n",
       "    .dataframe tbody tr th {\n",
       "        vertical-align: top;\n",
       "    }\n",
       "\n",
       "    .dataframe thead th {\n",
       "        text-align: right;\n",
       "    }\n",
       "</style>\n",
       "<table border=\"1\" class=\"dataframe\">\n",
       "  <thead>\n",
       "    <tr style=\"text-align: right;\">\n",
       "      <th></th>\n",
       "      <th>Genres</th>\n",
       "      <th>Themes</th>\n",
       "    </tr>\n",
       "  </thead>\n",
       "  <tbody>\n",
       "    <tr>\n",
       "      <th>Missing_ratio</th>\n",
       "      <td>23.7</td>\n",
       "      <td>77.24</td>\n",
       "    </tr>\n",
       "    <tr>\n",
       "      <th>Num_diff_vals</th>\n",
       "      <td>19</td>\n",
       "      <td>52</td>\n",
       "    </tr>\n",
       "    <tr>\n",
       "      <th>Diff_vals</th>\n",
       "      <td>[Action, Adventure, Avant Garde, Award Winning...</td>\n",
       "      <td>[Adult Cast, Anthropomorphic, CGDCT, Childcare...</td>\n",
       "    </tr>\n",
       "  </tbody>\n",
       "</table>\n",
       "</div>"
      ],
      "text/plain": [
       "                                                          Genres  \\\n",
       "Missing_ratio                                               23.7   \n",
       "Num_diff_vals                                                 19   \n",
       "Diff_vals      [Action, Adventure, Avant Garde, Award Winning...   \n",
       "\n",
       "                                                          Themes  \n",
       "Missing_ratio                                              77.24  \n",
       "Num_diff_vals                                                 52  \n",
       "Diff_vals      [Adult Cast, Anthropomorphic, CGDCT, Childcare...  "
      ]
     },
     "execution_count": 32,
     "metadata": {},
     "output_type": "execute_result"
    }
   ],
   "source": [
    "list_col_dist_df = pd.DataFrame({'Genres': [.0] * 3,\n",
    "                                 'Themes': [.0] * 3},\n",
    "                                  index=['Missing_ratio', 'Num_diff_vals', 'Diff_vals'], dtype=object)\n",
    "\n",
    "list_col_dist_df.loc['Missing_ratio'] = \\\n",
    "    np.sum(manga_df[list_col_dist_df.columns].apply(lambda col: col.apply(len)) == 0) / manga_df.shape[0] * 100\n",
    "\n",
    "list_col_dist_df.loc['Diff_vals'][['Genres', 'Themes']] = \\\n",
    "    manga_df[list_col_dist_df.columns].apply(np.concatenate)[['Genres', 'Themes']].apply(np.unique)\n",
    "\n",
    "list_col_dist_df.loc['Num_diff_vals'][['Genres', 'Themes']] = list_col_dist_df.loc['Diff_vals'][['Genres', 'Themes']].apply(len)\n",
    "\n",
    "list_col_dist_df"
   ]
  },
  {
   "cell_type": "markdown",
   "id": "62f80ff3",
   "metadata": {},
   "source": [
    "*General view:*\n",
    "\n",
    "+ About Missing_ratio:\n",
    "     + `Genres` is missing a lot of data, missing **23.7%** of the data\n",
    "     + `Themes` is missing a lot of data, up to **77.24%** of the data\n",
    "    \n",
    "+ About Num_diff_vals, Diff_vals:\n",
    "     + `Genres` has 19 types\n",
    "     + `Themes` has 52 types"
   ]
  },
  {
   "cell_type": "markdown",
   "id": "8d3a2ef1",
   "metadata": {},
   "source": [
    "The missing data rate of the `Themes` column is 77.24% (greater than 75%), so we will proceed to remove this column from the data."
   ]
  },
  {
   "cell_type": "code",
   "execution_count": 33,
   "id": "8a04b33b",
   "metadata": {},
   "outputs": [],
   "source": [
    "manga_df = manga_df.drop(columns='Themes')"
   ]
  },
  {
   "cell_type": "markdown",
   "id": "f730d716",
   "metadata": {},
   "source": [
    "Let's chekc data after deleting columns `Themes`"
   ]
  },
  {
   "cell_type": "code",
   "execution_count": 34,
   "id": "5b355321",
   "metadata": {
    "scrolled": true
   },
   "outputs": [
    {
     "data": {
      "text/html": [
       "<div>\n",
       "<style scoped>\n",
       "    .dataframe tbody tr th:only-of-type {\n",
       "        vertical-align: middle;\n",
       "    }\n",
       "\n",
       "    .dataframe tbody tr th {\n",
       "        vertical-align: top;\n",
       "    }\n",
       "\n",
       "    .dataframe thead th {\n",
       "        text-align: right;\n",
       "    }\n",
       "</style>\n",
       "<table border=\"1\" class=\"dataframe\">\n",
       "  <thead>\n",
       "    <tr style=\"text-align: right;\">\n",
       "      <th></th>\n",
       "      <th>Title</th>\n",
       "      <th>Score</th>\n",
       "      <th>Vote</th>\n",
       "      <th>Ranked</th>\n",
       "      <th>Popularity</th>\n",
       "      <th>Members</th>\n",
       "      <th>Favorite</th>\n",
       "      <th>Volumes</th>\n",
       "      <th>Chapters</th>\n",
       "      <th>Status</th>\n",
       "      <th>Genres</th>\n",
       "      <th>Author</th>\n",
       "      <th>Recommended</th>\n",
       "      <th>Mixed Feelings</th>\n",
       "      <th>Not Recommended</th>\n",
       "      <th>Release date</th>\n",
       "      <th>Completed date</th>\n",
       "    </tr>\n",
       "  </thead>\n",
       "  <tbody>\n",
       "    <tr>\n",
       "      <th>0</th>\n",
       "      <td>Berserk</td>\n",
       "      <td>9.47</td>\n",
       "      <td>330815</td>\n",
       "      <td>1</td>\n",
       "      <td>1</td>\n",
       "      <td>664507</td>\n",
       "      <td>122709</td>\n",
       "      <td>6.0</td>\n",
       "      <td>35.0</td>\n",
       "      <td>Publishing</td>\n",
       "      <td>[Action, Adventure, Award Winning, Drama, Fant...</td>\n",
       "      <td>Miura, Kentarou (Story &amp; Art), Studio Gaga (Art)</td>\n",
       "      <td>233</td>\n",
       "      <td>15</td>\n",
       "      <td>10</td>\n",
       "      <td>1989-08-25</td>\n",
       "      <td>NaT</td>\n",
       "    </tr>\n",
       "    <tr>\n",
       "      <th>1</th>\n",
       "      <td>JoJo no Kimyou na Bouken Part 7: Steel Ball Run</td>\n",
       "      <td>9.30</td>\n",
       "      <td>156218</td>\n",
       "      <td>2</td>\n",
       "      <td>26</td>\n",
       "      <td>255895</td>\n",
       "      <td>42837</td>\n",
       "      <td>24.0</td>\n",
       "      <td>96.0</td>\n",
       "      <td>Finished</td>\n",
       "      <td>[Action, Adventure, Mystery, Supernatural]</td>\n",
       "      <td>Araki, Hirohiko (Story &amp; Art)</td>\n",
       "      <td>120</td>\n",
       "      <td>7</td>\n",
       "      <td>1</td>\n",
       "      <td>2004-01-19</td>\n",
       "      <td>2011-04-19</td>\n",
       "    </tr>\n",
       "  </tbody>\n",
       "</table>\n",
       "</div>"
      ],
      "text/plain": [
       "                                             Title  Score    Vote  Ranked  \\\n",
       "0                                          Berserk   9.47  330815       1   \n",
       "1  JoJo no Kimyou na Bouken Part 7: Steel Ball Run   9.30  156218       2   \n",
       "\n",
       "   Popularity  Members  Favorite  Volumes  Chapters      Status  \\\n",
       "0           1   664507    122709      6.0      35.0  Publishing   \n",
       "1          26   255895     42837     24.0      96.0    Finished   \n",
       "\n",
       "                                              Genres  \\\n",
       "0  [Action, Adventure, Award Winning, Drama, Fant...   \n",
       "1         [Action, Adventure, Mystery, Supernatural]   \n",
       "\n",
       "                                             Author  Recommended  \\\n",
       "0  Miura, Kentarou (Story & Art), Studio Gaga (Art)          233   \n",
       "1                     Araki, Hirohiko (Story & Art)          120   \n",
       "\n",
       "   Mixed Feelings  Not Recommended Release date Completed date  \n",
       "0              15               10   1989-08-25            NaT  \n",
       "1               7                1   2004-01-19     2011-04-19  "
      ]
     },
     "execution_count": 34,
     "metadata": {},
     "output_type": "execute_result"
    }
   ],
   "source": [
    "manga_df.head(2)"
   ]
  },
  {
   "cell_type": "markdown",
   "id": "80ce612c",
   "metadata": {},
   "source": [
    "**`Genres`** Romance is the most popular genre, accounting for 13.9% (based on the number of appearances in all column lists)"
   ]
  },
  {
   "cell_type": "code",
   "execution_count": 35,
   "id": "6d9d2ea9",
   "metadata": {},
   "outputs": [
    {
     "data": {
      "text/plain": [
       "('Romance', 13.899184581171237)"
      ]
     },
     "execution_count": 35,
     "metadata": {},
     "output_type": "execute_result"
    }
   ],
   "source": [
    "genres, counts_genres = np.unique(pd.Series(np.concatenate(manga_df['Genres'])), return_counts=True)\n",
    "genres[counts_genres.argmax()], counts_genres[counts_genres.argmax()] / np.sum(counts_genres) * 100"
   ]
  },
  {
   "cell_type": "code",
   "execution_count": null,
   "id": "43b34252",
   "metadata": {},
   "outputs": [],
   "source": []
  }
 ],
 "metadata": {
  "kernelspec": {
   "display_name": "Python 3 (ipykernel)",
   "language": "python",
   "name": "python3"
  },
  "language_info": {
   "codemirror_mode": {
    "name": "ipython",
    "version": 3
   },
   "file_extension": ".py",
   "mimetype": "text/x-python",
   "name": "python",
   "nbconvert_exporter": "python",
   "pygments_lexer": "ipython3",
   "version": "3.9.18"
  }
 },
 "nbformat": 4,
 "nbformat_minor": 5
}
