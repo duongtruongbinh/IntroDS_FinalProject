{
 "cells": [
  {
   "cell_type": "markdown",
   "id": "9cfeb6e8",
   "metadata": {},
   "source": [
    "# <p style=\"text-align: center;\"> <b> Data Pre-Processing and Exploration </b></p>"
   ]
  },
  {
   "cell_type": "markdown",
   "metadata": {},
   "source": [
    "## Table of Contents\n",
    "\n",
    "\n",
    "---"
   ]
  },
  {
   "cell_type": "markdown",
   "metadata": {},
   "source": [
    "# 1. Introduction <a class=\"anchor\" id=\"introduction\"></a>\n",
    "\n",
    "## 1.1 Requirements <a class=\"anchor\" id=\"requirements\"></a>"
   ]
  },
  {
   "cell_type": "markdown",
   "id": "c9ae8abc",
   "metadata": {},
   "source": [
    "# 2. Implementation <a class=\"anchor\" id=\"implementation\"></a>\n",
    "\n",
    "## Import libraries <a class=\"anchor\" id=\"import_libraries\"></a>"
   ]
  },
  {
   "cell_type": "markdown",
   "id": "11eec475",
   "metadata": {},
   "source": [
    "These are the main libraries used for data exploration:\n",
    "+ `numpy`: used for mathematical operations on matrices\n",
    "+ `pandas`: used to store data from `.csv` files and operate functions on DataFrame\n",
    "+ `matplotlib`: used to visualize data"
   ]
  },
  {
   "cell_type": "code",
   "execution_count": 1,
   "id": "63d07a8f",
   "metadata": {},
   "outputs": [],
   "source": [
    "import numpy as np\n",
    "import pandas as pd\n",
    "import seaborn as sns\n",
    "import matplotlib.pyplot as plt\n",
    "import ast\n",
    "import re\n",
    "import pandas as pd\n",
    "import numpy as np\n",
    "from dateutil.parser import parse\n",
    "from datetime import datetime\n",
    "import datetime as dt\n",
    "pd.options.mode.chained_assignment = None"
   ]
  },
  {
   "cell_type": "markdown",
   "id": "4ac5ed7e",
   "metadata": {},
   "source": [
    "## Exploring Data (rows, cols, dtype) <a class=\"anchor\" id=\"Exploring Data (rows, cols, dtype)\"></a>"
   ]
  },
  {
   "cell_type": "markdown",
   "id": "d2316faf",
   "metadata": {},
   "source": [
    "### Read data from file `.csv` <a class=\"anchor\" id=\"Exploring Data (rows, cols, dtype)\"></a>"
   ]
  },
  {
   "cell_type": "code",
   "execution_count": 2,
   "id": "b5575145",
   "metadata": {},
   "outputs": [],
   "source": [
    "manga_df = pd.read_csv('../data/raw_comic.csv')"
   ]
  },
  {
   "cell_type": "code",
   "execution_count": 3,
   "id": "0bd9521b",
   "metadata": {},
   "outputs": [
    {
     "data": {
      "text/html": [
       "<div>\n",
       "<style scoped>\n",
       "    .dataframe tbody tr th:only-of-type {\n",
       "        vertical-align: middle;\n",
       "    }\n",
       "\n",
       "    .dataframe tbody tr th {\n",
       "        vertical-align: top;\n",
       "    }\n",
       "\n",
       "    .dataframe thead th {\n",
       "        text-align: right;\n",
       "    }\n",
       "</style>\n",
       "<table border=\"1\" class=\"dataframe\">\n",
       "  <thead>\n",
       "    <tr style=\"text-align: right;\">\n",
       "      <th></th>\n",
       "      <th>Title</th>\n",
       "      <th>Score</th>\n",
       "      <th>Vote</th>\n",
       "      <th>Ranked</th>\n",
       "      <th>Popularity</th>\n",
       "      <th>Members</th>\n",
       "      <th>Favorite</th>\n",
       "      <th>Volumes</th>\n",
       "      <th>Chapters</th>\n",
       "      <th>Status</th>\n",
       "      <th>Published</th>\n",
       "      <th>Genres</th>\n",
       "      <th>Themes</th>\n",
       "      <th>Author</th>\n",
       "      <th>Total Review</th>\n",
       "      <th>Type Review</th>\n",
       "    </tr>\n",
       "  </thead>\n",
       "  <tbody>\n",
       "    <tr>\n",
       "      <th>0</th>\n",
       "      <td>Berserk</td>\n",
       "      <td>9.47</td>\n",
       "      <td>331288</td>\n",
       "      <td>1</td>\n",
       "      <td>1</td>\n",
       "      <td>665,300</td>\n",
       "      <td>122,841</td>\n",
       "      <td>Unknown</td>\n",
       "      <td>Unknown</td>\n",
       "      <td>Publishing</td>\n",
       "      <td>Aug  25, 1989 to ?</td>\n",
       "      <td>['Action', 'Adventure', 'Award Winning', 'Dram...</td>\n",
       "      <td>['Gore', 'Military', 'Mythology', 'Psychologic...</td>\n",
       "      <td>Miura, Kentarou (Story &amp; Art), Studio Gaga (Art)</td>\n",
       "      <td>258</td>\n",
       "      <td>[233, 15, 10]</td>\n",
       "    </tr>\n",
       "    <tr>\n",
       "      <th>1</th>\n",
       "      <td>JoJo no Kimyou na Bouken Part 7: Steel Ball Run</td>\n",
       "      <td>9.30</td>\n",
       "      <td>156368</td>\n",
       "      <td>2</td>\n",
       "      <td>26</td>\n",
       "      <td>256,146</td>\n",
       "      <td>42,864</td>\n",
       "      <td>24</td>\n",
       "      <td>96</td>\n",
       "      <td>Finished</td>\n",
       "      <td>Jan  19, 2004 to Apr  19, 2011</td>\n",
       "      <td>['Action', 'Adventure', 'Mystery', 'Supernatur...</td>\n",
       "      <td>[]</td>\n",
       "      <td>Araki, Hirohiko (Story &amp; Art)</td>\n",
       "      <td>128</td>\n",
       "      <td>[120, 7, 1]</td>\n",
       "    </tr>\n",
       "    <tr>\n",
       "      <th>2</th>\n",
       "      <td>Vagabond</td>\n",
       "      <td>9.24</td>\n",
       "      <td>136403</td>\n",
       "      <td>3</td>\n",
       "      <td>15</td>\n",
       "      <td>364,891</td>\n",
       "      <td>40,158</td>\n",
       "      <td>37</td>\n",
       "      <td>327</td>\n",
       "      <td>On Hiatus</td>\n",
       "      <td>Sep  3, 1998 to May  21, 2015</td>\n",
       "      <td>['Action', 'Adventure', 'Award Winning']</td>\n",
       "      <td>['Historical', 'Samurai']</td>\n",
       "      <td>Inoue, Takehiko (Story &amp; Art), Yoshikawa, Eiji...</td>\n",
       "      <td>97</td>\n",
       "      <td>[88, 8, 1]</td>\n",
       "    </tr>\n",
       "    <tr>\n",
       "      <th>3</th>\n",
       "      <td>One Piece</td>\n",
       "      <td>9.22</td>\n",
       "      <td>366668</td>\n",
       "      <td>4</td>\n",
       "      <td>3</td>\n",
       "      <td>599,278</td>\n",
       "      <td>114,531</td>\n",
       "      <td>Unknown</td>\n",
       "      <td>Unknown</td>\n",
       "      <td>Publishing</td>\n",
       "      <td>Jul  22, 1997 to ?</td>\n",
       "      <td>['Action', 'Adventure', 'Fantasy']</td>\n",
       "      <td>[]</td>\n",
       "      <td>Oda, Eiichiro (Story &amp; Art)</td>\n",
       "      <td>206</td>\n",
       "      <td>[173, 17, 16]</td>\n",
       "    </tr>\n",
       "    <tr>\n",
       "      <th>4</th>\n",
       "      <td>Monster</td>\n",
       "      <td>9.15</td>\n",
       "      <td>93945</td>\n",
       "      <td>5</td>\n",
       "      <td>29</td>\n",
       "      <td>236,355</td>\n",
       "      <td>20,501</td>\n",
       "      <td>18</td>\n",
       "      <td>162</td>\n",
       "      <td>Finished</td>\n",
       "      <td>Dec  5, 1994 to Dec  20, 2001</td>\n",
       "      <td>['Award Winning', 'Drama', 'Mystery']</td>\n",
       "      <td>['Adult Cast', 'Psychological']</td>\n",
       "      <td>Urasawa, Naoki (Story &amp; Art)</td>\n",
       "      <td>76</td>\n",
       "      <td>[64, 7, 5]</td>\n",
       "    </tr>\n",
       "  </tbody>\n",
       "</table>\n",
       "</div>"
      ],
      "text/plain": [
       "                                             Title  Score    Vote  Ranked  \\\n",
       "0                                          Berserk   9.47  331288       1   \n",
       "1  JoJo no Kimyou na Bouken Part 7: Steel Ball Run   9.30  156368       2   \n",
       "2                                         Vagabond   9.24  136403       3   \n",
       "3                                        One Piece   9.22  366668       4   \n",
       "4                                          Monster   9.15   93945       5   \n",
       "\n",
       "   Popularity  Members Favorite  Volumes Chapters      Status  \\\n",
       "0           1  665,300  122,841  Unknown  Unknown  Publishing   \n",
       "1          26  256,146   42,864       24       96    Finished   \n",
       "2          15  364,891   40,158       37      327   On Hiatus   \n",
       "3           3  599,278  114,531  Unknown  Unknown  Publishing   \n",
       "4          29  236,355   20,501       18      162    Finished   \n",
       "\n",
       "                        Published  \\\n",
       "0              Aug  25, 1989 to ?   \n",
       "1  Jan  19, 2004 to Apr  19, 2011   \n",
       "2   Sep  3, 1998 to May  21, 2015   \n",
       "3              Jul  22, 1997 to ?   \n",
       "4   Dec  5, 1994 to Dec  20, 2001   \n",
       "\n",
       "                                              Genres  \\\n",
       "0  ['Action', 'Adventure', 'Award Winning', 'Dram...   \n",
       "1  ['Action', 'Adventure', 'Mystery', 'Supernatur...   \n",
       "2           ['Action', 'Adventure', 'Award Winning']   \n",
       "3                 ['Action', 'Adventure', 'Fantasy']   \n",
       "4              ['Award Winning', 'Drama', 'Mystery']   \n",
       "\n",
       "                                              Themes  \\\n",
       "0  ['Gore', 'Military', 'Mythology', 'Psychologic...   \n",
       "1                                                 []   \n",
       "2                          ['Historical', 'Samurai']   \n",
       "3                                                 []   \n",
       "4                    ['Adult Cast', 'Psychological']   \n",
       "\n",
       "                                              Author  Total Review  \\\n",
       "0   Miura, Kentarou (Story & Art), Studio Gaga (Art)           258   \n",
       "1                      Araki, Hirohiko (Story & Art)           128   \n",
       "2  Inoue, Takehiko (Story & Art), Yoshikawa, Eiji...            97   \n",
       "3                        Oda, Eiichiro (Story & Art)           206   \n",
       "4                       Urasawa, Naoki (Story & Art)            76   \n",
       "\n",
       "     Type Review  \n",
       "0  [233, 15, 10]  \n",
       "1    [120, 7, 1]  \n",
       "2     [88, 8, 1]  \n",
       "3  [173, 17, 16]  \n",
       "4     [64, 7, 5]  "
      ]
     },
     "execution_count": 3,
     "metadata": {},
     "output_type": "execute_result"
    }
   ],
   "source": [
    "manga_df.head()"
   ]
  },
  {
   "cell_type": "markdown",
   "id": "9f68e771",
   "metadata": {},
   "source": [
    "### Total number of rows and columns of data <a class=\"anchor\" id=\"Exploring Data (rows, cols, dtype)\"></a>"
   ]
  },
  {
   "cell_type": "code",
   "execution_count": 4,
   "id": "0ece0911",
   "metadata": {},
   "outputs": [
    {
     "name": "stdout",
     "output_type": "stream",
     "text": [
      "Data has 10000 rows and 16 columns\n"
     ]
    }
   ],
   "source": [
    "n_rows , n_cols = manga_df.shape\n",
    "print(f'Data has {n_rows} rows and {n_cols} columns')"
   ]
  },
  {
   "cell_type": "markdown",
   "id": "f34321de",
   "metadata": {},
   "source": [
    "### Meaning of each row and each column <a class=\"anchor\" id=\"collect_urls\"></a>"
   ]
  },
  {
   "cell_type": "markdown",
   "id": "e2e15882",
   "metadata": {},
   "source": [
    "+ Each rows represents information about a manga series\n",
    "\n",
    "+ The following is the meaning of each column in the data"
   ]
  },
  {
   "cell_type": "markdown",
   "id": "b2219d8e",
   "metadata": {},
   "source": [
    "  | **COLUMN**            | **MEANING**                                                                                     |\n",
    "  |:----------------------|:------------------------------------------------------------------------------------------------|\n",
    "  |**`Title`**            | Title of the manga (written in English phonetic)                                                |\n",
    "  |**`Score`**            | Score on the MyAnimeList site (MAL)                                                             |\n",
    "  |**`Vote`**             | Number of readers voting for the manga                                                          |\n",
    "  |**`Ranked`**           | Ranking of manga on the web MyAnimeList (MAL)                                                   |\n",
    "  |**`Popularity`**       | The popularity of the manga                                                                     |\n",
    "  |**`Members`**          | Number of readers who have this manga in their list                                             |\n",
    "  |**`Favorite`**         | Number of readers who love this manga                                                           |\n",
    "  |**`Volumes`**          | Volume number of the manga                                                                      |\n",
    "  |**`Chapters`**         | Chapter number of the manga                                                                     |\n",
    "  |**`Status`**           | Status of the manga (ongoing, completed, on hiatus,...)                                         |\n",
    "  |**`Published`**        | Release time to the end time of the manga                                                       |\n",
    "  |**`Genres`**           | Genres of manga                                                                                 |\n",
    "  |**`Themes`**           | The themes of the manga                                                                         |\n",
    "  |**`Author`**           | Author information of the manga                                                                 |\n",
    "  |**`Total Review`**     | Number of readers leaving comments on the manga                                                 |\n",
    "  |**`Type Review`**      | Number of readers for each comment category (Recommended / Mixed feeling / Not recommended)     |\n",
    "  "
   ]
  },
  {
   "cell_type": "markdown",
   "id": "65e60d35",
   "metadata": {},
   "source": [
    "### Check and handle duplicates <a class=\"anchor\" id=\"Exploring Data (rows, cols, dtype)\"></a>"
   ]
  },
  {
   "cell_type": "code",
   "execution_count": 5,
   "id": "303f758c",
   "metadata": {},
   "outputs": [
    {
     "name": "stdout",
     "output_type": "stream",
     "text": [
      "There are 1 rows that are duplicated so we need to drop those 1 rows\n"
     ]
    }
   ],
   "source": [
    "duplicated_rows = manga_df.duplicated().sum()\n",
    "\n",
    "if duplicated_rows == 0:\n",
    "    print('There are 0 rows that are duplicated, which means each row in the DataFrame is unique.')\n",
    "    print('So that we do not need to continue processing duplicate lines')\n",
    "else:\n",
    "    print(f'There are {duplicated_rows} rows that are duplicated so we need to drop those {duplicated_rows} rows')\n",
    "    manga_df = manga_df.drop_duplicates()"
   ]
  },
  {
   "cell_type": "markdown",
   "id": "c807f480",
   "metadata": {},
   "source": [
    "### Check and handle data type of columns <a class=\"anchor\" id=\"Exploring Data (rows, cols, dtype)\"></a>"
   ]
  },
  {
   "cell_type": "markdown",
   "id": "598b1298",
   "metadata": {},
   "source": [
    "Next, we calculate the data type (dtype) of each column in DataFrame `manga_df` and save the result into Series `dtypes` (This Series has the index as the column name)."
   ]
  },
  {
   "cell_type": "code",
   "execution_count": 6,
   "id": "4a9c9603",
   "metadata": {},
   "outputs": [
    {
     "data": {
      "text/plain": [
       "Title            object\n",
       "Score           float64\n",
       "Vote              int64\n",
       "Ranked            int64\n",
       "Popularity        int64\n",
       "Members          object\n",
       "Favorite         object\n",
       "Volumes          object\n",
       "Chapters         object\n",
       "Status           object\n",
       "Published        object\n",
       "Genres           object\n",
       "Themes           object\n",
       "Author           object\n",
       "Total Review      int64\n",
       "Type Review      object\n",
       "dtype: object"
      ]
     },
     "execution_count": 6,
     "metadata": {},
     "output_type": "execute_result"
    }
   ],
   "source": [
    "dtypes = manga_df.dtypes\n",
    "dtypes"
   ]
  },
  {
   "cell_type": "markdown",
   "id": "1f9d384c",
   "metadata": {},
   "source": [
    "To better understand columns of type `object`, we will analyze them into each subtype using function `open_object_dtype()`"
   ]
  },
  {
   "cell_type": "code",
   "execution_count": 7,
   "id": "606b8345",
   "metadata": {},
   "outputs": [],
   "source": [
    "def open_object_dtype(s):\n",
    "    dtypes = set()\n",
    "    dtypes.update(s.apply(type))\n",
    "    return dtypes"
   ]
  },
  {
   "cell_type": "markdown",
   "id": "d764e85f",
   "metadata": {},
   "source": [
    "Now, considering columns whose data type is object more clearly"
   ]
  },
  {
   "cell_type": "code",
   "execution_count": 8,
   "id": "84bdbe78",
   "metadata": {},
   "outputs": [
    {
     "data": {
      "text/plain": [
       "Title                           {<class 'str'>}\n",
       "Members                         {<class 'str'>}\n",
       "Favorite                        {<class 'str'>}\n",
       "Volumes                         {<class 'str'>}\n",
       "Chapters                        {<class 'str'>}\n",
       "Status                          {<class 'str'>}\n",
       "Published                       {<class 'str'>}\n",
       "Genres                          {<class 'str'>}\n",
       "Themes                          {<class 'str'>}\n",
       "Author         {<class 'str'>, <class 'float'>}\n",
       "Type Review                     {<class 'str'>}\n",
       "dtype: object"
      ]
     },
     "execution_count": 8,
     "metadata": {},
     "output_type": "execute_result"
    }
   ],
   "source": [
    "manga_df[manga_df.dtypes.index[manga_df.dtypes == object]].apply(open_object_dtype)"
   ]
  },
  {
   "cell_type": "markdown",
   "id": "5e4dbd67",
   "metadata": {},
   "source": [
    "Let's see which columns have appropriate data types and which columns do not"
   ]
  },
  {
   "cell_type": "markdown",
   "id": "d118f8db",
   "metadata": {},
   "source": [
    "+ Suitability: `Title`, `Score`, `Vote`, `Ranked`, `Popularity`, `Status` and `Total Review`\n",
    "\n",
    "+ Need to convert to **int**: `Members`, `Favorite`, `Volumes` and `Chapters`\n",
    "\n",
    "+ Need to convert to **list**: `Type Review`, `Genres` and `Themes`\n",
    "\n",
    "+ Need to convert to **str**: `Author` \n",
    "\n",
    "+ Need to convert to **datetime**: `Published`"
   ]
  },
  {
   "cell_type": "markdown",
   "id": "6e00ae3e",
   "metadata": {},
   "source": [
    "## Pre-processing data <a class=\"anchor\" id=\"Pre-processing data\"></a>"
   ]
  },
  {
   "cell_type": "markdown",
   "id": "a042c840",
   "metadata": {},
   "source": [
    "### Normalizing columns (convert the data types of columns accordingly) <a class=\"anchor\" id=\"Pre-processing data\"></a>"
   ]
  },
  {
   "cell_type": "markdown",
   "id": "d879bc60",
   "metadata": {},
   "source": [
    "Firstly, converting the data type of the columns to **int / float**"
   ]
  },
  {
   "cell_type": "code",
   "execution_count": 9,
   "id": "fdbdff74",
   "metadata": {},
   "outputs": [],
   "source": [
    "# Convert to int\n",
    "manga_df['Members'].replace(',','', regex=True, inplace=True)\n",
    "manga_df['Favorite'].replace(',','', regex=True, inplace=True)\n",
    "manga_df['Members'] = pd.to_numeric(manga_df['Members'], errors='coerce')\n",
    "manga_df['Favorite'] = pd.to_numeric(manga_df['Favorite'], errors='coerce')\n",
    "\n",
    "# Convert to float because type int does not contain NaN values\n",
    "manga_df['Volumes'] = pd.to_numeric(manga_df['Volumes'], errors='coerce')\n",
    "manga_df['Chapters'] = pd.to_numeric(manga_df['Chapters'], errors='coerce')\n"
   ]
  },
  {
   "cell_type": "markdown",
   "id": "e9f661bb",
   "metadata": {},
   "source": [
    "Let's check again data type of `Members`, `Favorite`, `Volumes` and `Chapters`"
   ]
  },
  {
   "cell_type": "code",
   "execution_count": 10,
   "id": "03fe3094",
   "metadata": {},
   "outputs": [
    {
     "data": {
      "text/plain": [
       "Members       int64\n",
       "Favorite      int64\n",
       "Volumes     float64\n",
       "Chapters    float64\n",
       "dtype: object"
      ]
     },
     "execution_count": 10,
     "metadata": {},
     "output_type": "execute_result"
    }
   ],
   "source": [
    "check = ['Members', 'Favorite', 'Volumes', 'Chapters']\n",
    "manga_df[check].dtypes"
   ]
  },
  {
   "cell_type": "markdown",
   "id": "58491684",
   "metadata": {},
   "source": [
    "Secondly, converting the data type of the columns to **list**"
   ]
  },
  {
   "cell_type": "code",
   "execution_count": 11,
   "id": "96507287",
   "metadata": {},
   "outputs": [],
   "source": [
    "manga_df[['Genres', 'Themes', 'Type Review']] = \\\n",
    "    manga_df[['Genres', 'Themes', 'Type Review']].apply(lambda col : col.apply(ast.literal_eval), axis=1)"
   ]
  },
  {
   "cell_type": "markdown",
   "id": "fe24aef0",
   "metadata": {},
   "source": [
    "+ Looking at the `Type Review` column, we see that the data type of this column is quite difficult to access (the column's data type is a list of 3 numbers representing the number of comments of three comment types: `Recommended`, `Mixed feelings` and `Not recommended`) so we will divide `Type Review` into 3 new columns: `Recommended`, `Mixed Feelings` and `Not Recommended`. \n",
    "+ After dividing into 3 new columns, the `Type Review` column will be removed from the data. \n",
    "+ Additionally, the `Total Review` column which is the sum of those 3 new columns will also be removed"
   ]
  },
  {
   "cell_type": "code",
   "execution_count": 12,
   "id": "74ad0fbe",
   "metadata": {},
   "outputs": [],
   "source": [
    "manga_df['Recommended'] = 0\n",
    "manga_df['Mixed Feelings'] = 0\n",
    "manga_df['Not Recommended'] = 0\n",
    "\n",
    "for row, i in zip(manga_df['Type Review'], manga_df.index):\n",
    "    manga_df['Recommended'][i] = row[0]\n",
    "    manga_df['Mixed Feelings'][i] = row[1]\n",
    "    manga_df['Not Recommended'][i] = row[2]"
   ]
  },
  {
   "cell_type": "markdown",
   "id": "2f4f9114",
   "metadata": {},
   "source": [
    "Before deleting column `Total Review`, we check whether the data collected is reasonable"
   ]
  },
  {
   "cell_type": "code",
   "execution_count": 13,
   "id": "6298b97e",
   "metadata": {},
   "outputs": [],
   "source": [
    "def checking_reviews(df: pd.DataFrame) -> bool:\n",
    "    return df[\"Total Review\"].equals((df[\"Recommended\"] + df[\"Mixed Feelings\"] + df[\"Not Recommended\"]))"
   ]
  },
  {
   "cell_type": "code",
   "execution_count": 14,
   "id": "a3fedf65",
   "metadata": {},
   "outputs": [
    {
     "data": {
      "text/plain": [
       "True"
      ]
     },
     "execution_count": 14,
     "metadata": {},
     "output_type": "execute_result"
    }
   ],
   "source": [
    "checking_reviews(manga_df)==True"
   ]
  },
  {
   "cell_type": "markdown",
   "id": "4288221c",
   "metadata": {},
   "source": [
    "Because the `Total Review` column is the sum of the 3 columns we just created (checked to be True above), we will delete the `Total Review` column from the data."
   ]
  },
  {
   "cell_type": "code",
   "execution_count": 15,
   "id": "f5816870",
   "metadata": {},
   "outputs": [],
   "source": [
    "manga_df = manga_df.drop(columns=['Type Review', 'Total Review'])"
   ]
  },
  {
   "cell_type": "markdown",
   "id": "5ce200b4",
   "metadata": {},
   "source": [
    "Let's check the data type of the 3 newly created columns"
   ]
  },
  {
   "cell_type": "code",
   "execution_count": 16,
   "id": "f78ac00f",
   "metadata": {},
   "outputs": [
    {
     "data": {
      "text/plain": [
       "Recommended        int64\n",
       "Mixed Feelings     int64\n",
       "Not Recommended    int64\n",
       "dtype: object"
      ]
     },
     "execution_count": 16,
     "metadata": {},
     "output_type": "execute_result"
    }
   ],
   "source": [
    "check = ['Recommended', 'Mixed Feelings', 'Not Recommended']\n",
    "manga_df[check].dtypes"
   ]
  },
  {
   "cell_type": "markdown",
   "id": "3b1aa591",
   "metadata": {},
   "source": [
    "Thirdly, converting the data type of the columns to **datetime**"
   ]
  },
  {
   "cell_type": "markdown",
   "id": "d6a8cf45",
   "metadata": {},
   "source": [
    "Because the `Published` column is quite difficult to store during discovery and continuing with the following steps (the data in the column is `release date to end date`), we will split the `Published` column into 2 new columns. is column `Release date` and column `Completed date` and remove column `Published`"
   ]
  },
  {
   "cell_type": "code",
   "execution_count": 17,
   "id": "08284f6c",
   "metadata": {},
   "outputs": [
    {
     "name": "stderr",
     "output_type": "stream",
     "text": [
      "C:\\Users\\HP\\AppData\\Local\\Temp\\ipykernel_22608\\4275699570.py:37: UserWarning: Could not infer format, so each element will be parsed individually, falling back to `dateutil`. To ensure parsing is consistent and as-expected, please specify a format.\n",
      "  manga_df['Completed date'] = pd.to_datetime(manga_df['Completed date'], errors='coerce').dt.normalize()\n"
     ]
    }
   ],
   "source": [
    "start = []\n",
    "end = []\n",
    "\n",
    "for row in manga_df['Published']:\n",
    "    if ' to ' in row:\n",
    "        s, e = row.split(' to ')\n",
    "\n",
    "        if s.isdigit() and e.isdigit():\n",
    "            s = f\"01 Jan, {s}\"\n",
    "            e = f\"01 Jan, {e}\"\n",
    "        elif len(s.split()) == 2 and len(e.split()) == 2:\n",
    "            s = f\"{s}, {datetime.now().year}\"\n",
    "            e = f\"{e}, {datetime.now().year}\"\n",
    "\n",
    "    elif row.isdigit():\n",
    "        s = f\"01 Jan, {row}\"\n",
    "        e = np.nan\n",
    "    else:\n",
    "        try:\n",
    "            s = parse(row, fuzzy=True)\n",
    "            e = np.nan\n",
    "        except ValueError:\n",
    "            s = np.nan\n",
    "            e = np.nan\n",
    "\n",
    "    start.append(s)\n",
    "    end.append(e)\n",
    "\n",
    "date_df = pd.DataFrame({'Release date': start, 'Completed date': end})\n",
    "\n",
    "# Assigning the new columns to manga_df\n",
    "manga_df['Release date'] = date_df['Release date']\n",
    "manga_df['Completed date'] = date_df['Completed date']\n",
    "\n",
    "# Convert 'Release date' and 'Completed date' to datetime64 and set time to midnight\n",
    "manga_df['Release date'] = pd.to_datetime(manga_df['Release date'], errors='coerce').dt.normalize()\n",
    "manga_df['Completed date'] = pd.to_datetime(manga_df['Completed date'], errors='coerce').dt.normalize()\n",
    "\n",
    "# Dropping the original 'Published' column\n",
    "manga_df = manga_df.drop(columns='Published')"
   ]
  },
  {
   "cell_type": "code",
   "execution_count": 18,
   "metadata": {},
   "outputs": [
    {
     "data": {
      "text/plain": [
       "0      1989-08-25\n",
       "1      2004-01-19\n",
       "2      1998-09-03\n",
       "3      1997-07-22\n",
       "4      1994-12-05\n",
       "          ...    \n",
       "9995   2013-12-13\n",
       "9996   2012-08-18\n",
       "9997   2013-10-24\n",
       "9998   2014-10-27\n",
       "9999          NaT\n",
       "Name: Release date, Length: 9999, dtype: datetime64[ns]"
      ]
     },
     "execution_count": 18,
     "metadata": {},
     "output_type": "execute_result"
    }
   ],
   "source": [
    "manga_df['Release date']"
   ]
  },
  {
   "cell_type": "markdown",
   "id": "ad1d9738",
   "metadata": {},
   "source": [
    "Let's data type of `Release date` and `Completed date`"
   ]
  },
  {
   "cell_type": "code",
   "execution_count": 19,
   "id": "599a5ff6",
   "metadata": {},
   "outputs": [
    {
     "data": {
      "text/plain": [
       "Release date      datetime64[ns]\n",
       "Completed date    datetime64[ns]\n",
       "dtype: object"
      ]
     },
     "execution_count": 19,
     "metadata": {},
     "output_type": "execute_result"
    }
   ],
   "source": [
    "check = ['Release date', 'Completed date']\n",
    "manga_df[check].dtypes"
   ]
  },
  {
   "cell_type": "code",
   "execution_count": 20,
   "metadata": {},
   "outputs": [],
   "source": [
    "def calculate_time_from_release(row):\n",
    "    today_date = datetime.now()\n",
    "    \n",
    "    # Convert string dates back to datetime objects\n",
    "    try:\n",
    "        release_date = pd.to_datetime(row['Release date'], format='%d-%m-%Y')\n",
    "    except ValueError:\n",
    "        # If conversion fails, return 0\n",
    "        return 0\n",
    "\n",
    "    try:\n",
    "        complete_date = pd.to_datetime(row['Completed date'], format='%d-%m-%Y')\n",
    "    except ValueError:\n",
    "        complete_date = np.nan\n",
    "\n",
    "    if pd.isna(release_date):\n",
    "        # If release date is NaN (or conversion failed), we cannot calculate time from release\n",
    "        return 0\n",
    "\n",
    "    if pd.isna(complete_date):\n",
    "        # Calculate from release date to today if complete date is NaN or conversion failed\n",
    "        result = (today_date - release_date).days / 30.44\n",
    "    else:\n",
    "        result = (complete_date - release_date).days / 30.44\n",
    "\n",
    "    return int(round(result))\n",
    "\n",
    "# Apply the function\n",
    "manga_df['Time from release (months)'] = manga_df.apply(calculate_time_from_release, axis=1)"
   ]
  },
  {
   "cell_type": "code",
   "execution_count": 21,
   "metadata": {},
   "outputs": [
    {
     "data": {
      "text/html": [
       "<div>\n",
       "<style scoped>\n",
       "    .dataframe tbody tr th:only-of-type {\n",
       "        vertical-align: middle;\n",
       "    }\n",
       "\n",
       "    .dataframe tbody tr th {\n",
       "        vertical-align: top;\n",
       "    }\n",
       "\n",
       "    .dataframe thead th {\n",
       "        text-align: right;\n",
       "    }\n",
       "</style>\n",
       "<table border=\"1\" class=\"dataframe\">\n",
       "  <thead>\n",
       "    <tr style=\"text-align: right;\">\n",
       "      <th></th>\n",
       "      <th>Title</th>\n",
       "      <th>Score</th>\n",
       "      <th>Vote</th>\n",
       "      <th>Ranked</th>\n",
       "      <th>Popularity</th>\n",
       "      <th>Members</th>\n",
       "      <th>Favorite</th>\n",
       "      <th>Volumes</th>\n",
       "      <th>Chapters</th>\n",
       "      <th>Status</th>\n",
       "      <th>Genres</th>\n",
       "      <th>Themes</th>\n",
       "      <th>Author</th>\n",
       "      <th>Recommended</th>\n",
       "      <th>Mixed Feelings</th>\n",
       "      <th>Not Recommended</th>\n",
       "      <th>Release date</th>\n",
       "      <th>Completed date</th>\n",
       "      <th>Time from release (months)</th>\n",
       "    </tr>\n",
       "  </thead>\n",
       "  <tbody>\n",
       "    <tr>\n",
       "      <th>0</th>\n",
       "      <td>Berserk</td>\n",
       "      <td>9.47</td>\n",
       "      <td>331288</td>\n",
       "      <td>1</td>\n",
       "      <td>1</td>\n",
       "      <td>665300</td>\n",
       "      <td>122841</td>\n",
       "      <td>NaN</td>\n",
       "      <td>NaN</td>\n",
       "      <td>Publishing</td>\n",
       "      <td>[Action, Adventure, Award Winning, Drama, Fant...</td>\n",
       "      <td>[Gore, Military, Mythology, Psychological]</td>\n",
       "      <td>Miura, Kentarou (Story &amp; Art), Studio Gaga (Art)</td>\n",
       "      <td>233</td>\n",
       "      <td>15</td>\n",
       "      <td>10</td>\n",
       "      <td>1989-08-25</td>\n",
       "      <td>NaT</td>\n",
       "      <td>411</td>\n",
       "    </tr>\n",
       "    <tr>\n",
       "      <th>1</th>\n",
       "      <td>JoJo no Kimyou na Bouken Part 7: Steel Ball Run</td>\n",
       "      <td>9.30</td>\n",
       "      <td>156368</td>\n",
       "      <td>2</td>\n",
       "      <td>26</td>\n",
       "      <td>256146</td>\n",
       "      <td>42864</td>\n",
       "      <td>24.0</td>\n",
       "      <td>96.0</td>\n",
       "      <td>Finished</td>\n",
       "      <td>[Action, Adventure, Mystery, Supernatural]</td>\n",
       "      <td>[]</td>\n",
       "      <td>Araki, Hirohiko (Story &amp; Art)</td>\n",
       "      <td>120</td>\n",
       "      <td>7</td>\n",
       "      <td>1</td>\n",
       "      <td>2004-01-19</td>\n",
       "      <td>2011-04-19</td>\n",
       "      <td>87</td>\n",
       "    </tr>\n",
       "    <tr>\n",
       "      <th>2</th>\n",
       "      <td>Vagabond</td>\n",
       "      <td>9.24</td>\n",
       "      <td>136403</td>\n",
       "      <td>3</td>\n",
       "      <td>15</td>\n",
       "      <td>364891</td>\n",
       "      <td>40158</td>\n",
       "      <td>37.0</td>\n",
       "      <td>327.0</td>\n",
       "      <td>On Hiatus</td>\n",
       "      <td>[Action, Adventure, Award Winning]</td>\n",
       "      <td>[Historical, Samurai]</td>\n",
       "      <td>Inoue, Takehiko (Story &amp; Art), Yoshikawa, Eiji...</td>\n",
       "      <td>88</td>\n",
       "      <td>8</td>\n",
       "      <td>1</td>\n",
       "      <td>1998-09-03</td>\n",
       "      <td>2015-05-21</td>\n",
       "      <td>201</td>\n",
       "    </tr>\n",
       "    <tr>\n",
       "      <th>3</th>\n",
       "      <td>One Piece</td>\n",
       "      <td>9.22</td>\n",
       "      <td>366668</td>\n",
       "      <td>4</td>\n",
       "      <td>3</td>\n",
       "      <td>599278</td>\n",
       "      <td>114531</td>\n",
       "      <td>NaN</td>\n",
       "      <td>NaN</td>\n",
       "      <td>Publishing</td>\n",
       "      <td>[Action, Adventure, Fantasy]</td>\n",
       "      <td>[]</td>\n",
       "      <td>Oda, Eiichiro (Story &amp; Art)</td>\n",
       "      <td>173</td>\n",
       "      <td>17</td>\n",
       "      <td>16</td>\n",
       "      <td>1997-07-22</td>\n",
       "      <td>NaT</td>\n",
       "      <td>316</td>\n",
       "    </tr>\n",
       "    <tr>\n",
       "      <th>4</th>\n",
       "      <td>Monster</td>\n",
       "      <td>9.15</td>\n",
       "      <td>93945</td>\n",
       "      <td>5</td>\n",
       "      <td>29</td>\n",
       "      <td>236355</td>\n",
       "      <td>20501</td>\n",
       "      <td>18.0</td>\n",
       "      <td>162.0</td>\n",
       "      <td>Finished</td>\n",
       "      <td>[Award Winning, Drama, Mystery]</td>\n",
       "      <td>[Adult Cast, Psychological]</td>\n",
       "      <td>Urasawa, Naoki (Story &amp; Art)</td>\n",
       "      <td>64</td>\n",
       "      <td>7</td>\n",
       "      <td>5</td>\n",
       "      <td>1994-12-05</td>\n",
       "      <td>2001-12-20</td>\n",
       "      <td>84</td>\n",
       "    </tr>\n",
       "    <tr>\n",
       "      <th>...</th>\n",
       "      <td>...</td>\n",
       "      <td>...</td>\n",
       "      <td>...</td>\n",
       "      <td>...</td>\n",
       "      <td>...</td>\n",
       "      <td>...</td>\n",
       "      <td>...</td>\n",
       "      <td>...</td>\n",
       "      <td>...</td>\n",
       "      <td>...</td>\n",
       "      <td>...</td>\n",
       "      <td>...</td>\n",
       "      <td>...</td>\n",
       "      <td>...</td>\n",
       "      <td>...</td>\n",
       "      <td>...</td>\n",
       "      <td>...</td>\n",
       "      <td>...</td>\n",
       "      <td>...</td>\n",
       "    </tr>\n",
       "    <tr>\n",
       "      <th>9995</th>\n",
       "      <td>Mikagura Gakuen Kumikyoku (Mikagura School Sui...</td>\n",
       "      <td>6.91</td>\n",
       "      <td>218</td>\n",
       "      <td>9860</td>\n",
       "      <td>11610</td>\n",
       "      <td>1354</td>\n",
       "      <td>12</td>\n",
       "      <td>6.0</td>\n",
       "      <td>31.0</td>\n",
       "      <td>Finished</td>\n",
       "      <td>[Action, Comedy]</td>\n",
       "      <td>[School, Visual Arts]</td>\n",
       "      <td>Sayuki (Art), Last Note. (Story)</td>\n",
       "      <td>0</td>\n",
       "      <td>0</td>\n",
       "      <td>0</td>\n",
       "      <td>2013-12-13</td>\n",
       "      <td>2014-11-13</td>\n",
       "      <td>11</td>\n",
       "    </tr>\n",
       "    <tr>\n",
       "      <th>9996</th>\n",
       "      <td>Stella to Mille Feuille</td>\n",
       "      <td>6.91</td>\n",
       "      <td>1068</td>\n",
       "      <td>9861</td>\n",
       "      <td>5919</td>\n",
       "      <td>3158</td>\n",
       "      <td>5</td>\n",
       "      <td>3.0</td>\n",
       "      <td>12.0</td>\n",
       "      <td>Finished</td>\n",
       "      <td>[]</td>\n",
       "      <td>[]</td>\n",
       "      <td>Watanabe, Kana (Story &amp; Art)</td>\n",
       "      <td>0</td>\n",
       "      <td>2</td>\n",
       "      <td>0</td>\n",
       "      <td>2012-08-18</td>\n",
       "      <td>2021-12-18</td>\n",
       "      <td>112</td>\n",
       "    </tr>\n",
       "    <tr>\n",
       "      <th>9997</th>\n",
       "      <td>Stella no Mahou (Magic of Stella)</td>\n",
       "      <td>6.91</td>\n",
       "      <td>137</td>\n",
       "      <td>9862</td>\n",
       "      <td>14815</td>\n",
       "      <td>954</td>\n",
       "      <td>9</td>\n",
       "      <td>10.0</td>\n",
       "      <td>NaN</td>\n",
       "      <td>Finished</td>\n",
       "      <td>[Comedy, Slice of Life]</td>\n",
       "      <td>[CGDCT, School]</td>\n",
       "      <td>cloba.U (Story &amp; Art)</td>\n",
       "      <td>0</td>\n",
       "      <td>0</td>\n",
       "      <td>0</td>\n",
       "      <td>2013-10-24</td>\n",
       "      <td>NaT</td>\n",
       "      <td>121</td>\n",
       "    </tr>\n",
       "    <tr>\n",
       "      <th>9998</th>\n",
       "      <td>NEET dakedo Hello Work ni Ittara Isekai ni Tsu...</td>\n",
       "      <td>6.91</td>\n",
       "      <td>302</td>\n",
       "      <td>9863</td>\n",
       "      <td>9688</td>\n",
       "      <td>1739</td>\n",
       "      <td>14</td>\n",
       "      <td>NaN</td>\n",
       "      <td>NaN</td>\n",
       "      <td>Publishing</td>\n",
       "      <td>[Action, Comedy, Fantasy, Romance]</td>\n",
       "      <td>[Harem, Isekai]</td>\n",
       "      <td>Sameda, Koban (Art), Katsura, Kasuga (Story)</td>\n",
       "      <td>0</td>\n",
       "      <td>0</td>\n",
       "      <td>0</td>\n",
       "      <td>2014-10-27</td>\n",
       "      <td>NaT</td>\n",
       "      <td>109</td>\n",
       "    </tr>\n",
       "    <tr>\n",
       "      <th>9999</th>\n",
       "      <td>Floor ni Maou ga Imasu (There's a Demon Lord O...</td>\n",
       "      <td>6.91</td>\n",
       "      <td>1296</td>\n",
       "      <td>9864</td>\n",
       "      <td>2956</td>\n",
       "      <td>6658</td>\n",
       "      <td>35</td>\n",
       "      <td>NaN</td>\n",
       "      <td>NaN</td>\n",
       "      <td>Publishing</td>\n",
       "      <td>[Comedy, Fantasy, Slice of Life, Supernatural,...</td>\n",
       "      <td>[]</td>\n",
       "      <td>Kawakami, Masaki (Art), Hato (Story)</td>\n",
       "      <td>1</td>\n",
       "      <td>0</td>\n",
       "      <td>0</td>\n",
       "      <td>NaT</td>\n",
       "      <td>NaT</td>\n",
       "      <td>0</td>\n",
       "    </tr>\n",
       "  </tbody>\n",
       "</table>\n",
       "<p>9999 rows × 19 columns</p>\n",
       "</div>"
      ],
      "text/plain": [
       "                                                  Title  Score    Vote  \\\n",
       "0                                               Berserk   9.47  331288   \n",
       "1       JoJo no Kimyou na Bouken Part 7: Steel Ball Run   9.30  156368   \n",
       "2                                              Vagabond   9.24  136403   \n",
       "3                                             One Piece   9.22  366668   \n",
       "4                                               Monster   9.15   93945   \n",
       "...                                                 ...    ...     ...   \n",
       "9995  Mikagura Gakuen Kumikyoku (Mikagura School Sui...   6.91     218   \n",
       "9996                            Stella to Mille Feuille   6.91    1068   \n",
       "9997                  Stella no Mahou (Magic of Stella)   6.91     137   \n",
       "9998  NEET dakedo Hello Work ni Ittara Isekai ni Tsu...   6.91     302   \n",
       "9999  Floor ni Maou ga Imasu (There's a Demon Lord O...   6.91    1296   \n",
       "\n",
       "      Ranked  Popularity  Members  Favorite  Volumes  Chapters      Status  \\\n",
       "0          1           1   665300    122841      NaN       NaN  Publishing   \n",
       "1          2          26   256146     42864     24.0      96.0    Finished   \n",
       "2          3          15   364891     40158     37.0     327.0   On Hiatus   \n",
       "3          4           3   599278    114531      NaN       NaN  Publishing   \n",
       "4          5          29   236355     20501     18.0     162.0    Finished   \n",
       "...      ...         ...      ...       ...      ...       ...         ...   \n",
       "9995    9860       11610     1354        12      6.0      31.0    Finished   \n",
       "9996    9861        5919     3158         5      3.0      12.0    Finished   \n",
       "9997    9862       14815      954         9     10.0       NaN    Finished   \n",
       "9998    9863        9688     1739        14      NaN       NaN  Publishing   \n",
       "9999    9864        2956     6658        35      NaN       NaN  Publishing   \n",
       "\n",
       "                                                 Genres  \\\n",
       "0     [Action, Adventure, Award Winning, Drama, Fant...   \n",
       "1            [Action, Adventure, Mystery, Supernatural]   \n",
       "2                    [Action, Adventure, Award Winning]   \n",
       "3                          [Action, Adventure, Fantasy]   \n",
       "4                       [Award Winning, Drama, Mystery]   \n",
       "...                                                 ...   \n",
       "9995                                   [Action, Comedy]   \n",
       "9996                                                 []   \n",
       "9997                            [Comedy, Slice of Life]   \n",
       "9998                 [Action, Comedy, Fantasy, Romance]   \n",
       "9999  [Comedy, Fantasy, Slice of Life, Supernatural,...   \n",
       "\n",
       "                                          Themes  \\\n",
       "0     [Gore, Military, Mythology, Psychological]   \n",
       "1                                             []   \n",
       "2                          [Historical, Samurai]   \n",
       "3                                             []   \n",
       "4                    [Adult Cast, Psychological]   \n",
       "...                                          ...   \n",
       "9995                       [School, Visual Arts]   \n",
       "9996                                          []   \n",
       "9997                             [CGDCT, School]   \n",
       "9998                             [Harem, Isekai]   \n",
       "9999                                          []   \n",
       "\n",
       "                                                 Author  Recommended  \\\n",
       "0      Miura, Kentarou (Story & Art), Studio Gaga (Art)          233   \n",
       "1                         Araki, Hirohiko (Story & Art)          120   \n",
       "2     Inoue, Takehiko (Story & Art), Yoshikawa, Eiji...           88   \n",
       "3                           Oda, Eiichiro (Story & Art)          173   \n",
       "4                          Urasawa, Naoki (Story & Art)           64   \n",
       "...                                                 ...          ...   \n",
       "9995                   Sayuki (Art), Last Note. (Story)            0   \n",
       "9996                       Watanabe, Kana (Story & Art)            0   \n",
       "9997                              cloba.U (Story & Art)            0   \n",
       "9998       Sameda, Koban (Art), Katsura, Kasuga (Story)            0   \n",
       "9999               Kawakami, Masaki (Art), Hato (Story)            1   \n",
       "\n",
       "      Mixed Feelings  Not Recommended Release date Completed date  \\\n",
       "0                 15               10   1989-08-25            NaT   \n",
       "1                  7                1   2004-01-19     2011-04-19   \n",
       "2                  8                1   1998-09-03     2015-05-21   \n",
       "3                 17               16   1997-07-22            NaT   \n",
       "4                  7                5   1994-12-05     2001-12-20   \n",
       "...              ...              ...          ...            ...   \n",
       "9995               0                0   2013-12-13     2014-11-13   \n",
       "9996               2                0   2012-08-18     2021-12-18   \n",
       "9997               0                0   2013-10-24            NaT   \n",
       "9998               0                0   2014-10-27            NaT   \n",
       "9999               0                0          NaT            NaT   \n",
       "\n",
       "      Time from release (months)  \n",
       "0                            411  \n",
       "1                             87  \n",
       "2                            201  \n",
       "3                            316  \n",
       "4                             84  \n",
       "...                          ...  \n",
       "9995                          11  \n",
       "9996                         112  \n",
       "9997                         121  \n",
       "9998                         109  \n",
       "9999                           0  \n",
       "\n",
       "[9999 rows x 19 columns]"
      ]
     },
     "execution_count": 21,
     "metadata": {},
     "output_type": "execute_result"
    }
   ],
   "source": [
    "manga_df"
   ]
  },
  {
   "cell_type": "markdown",
   "id": "0f2804e9",
   "metadata": {},
   "source": [
    "Finally, converting the data type of the columns to **string**"
   ]
  },
  {
   "cell_type": "code",
   "execution_count": 22,
   "id": "1131f0ff",
   "metadata": {},
   "outputs": [],
   "source": [
    "# Converted to str, any value that is str remains the same and any value that is NaN is converted to an empty string\n",
    "manga_df['Author'] = manga_df['Author'].replace(to_replace=np.nan, value='')"
   ]
  },
  {
   "cell_type": "code",
   "execution_count": 23,
   "metadata": {},
   "outputs": [],
   "source": [
    "def extract_author_names(text):\n",
    "    # Remove roles within parentheses, including the parentheses\n",
    "    text = re.sub(r'\\s*\\([^)]*\\)', '', text)\n",
    "    # Replace the commas separating last names from first names with a space\n",
    "    text = re.sub(r',\\s', ' ', text)\n",
    "    # Split the string by a comma followed by a space, which now only occurs between individuals\n",
    "    return text.split(', ')\n",
    "\n",
    "# Apply the function to each row in the 'Author' column\n",
    "manga_df['Author'] = manga_df['Author'].apply(extract_author_names)"
   ]
  },
  {
   "cell_type": "markdown",
   "id": "0145808e",
   "metadata": {},
   "source": [
    "Now, checking all data type columns after conversion"
   ]
  },
  {
   "cell_type": "code",
   "execution_count": 24,
   "id": "859d47ef",
   "metadata": {},
   "outputs": [
    {
     "data": {
      "text/plain": [
       "Title                                                           {<class 'str'>}\n",
       "Score                                                         {<class 'float'>}\n",
       "Vote                                                            {<class 'int'>}\n",
       "Ranked                                                          {<class 'int'>}\n",
       "Popularity                                                      {<class 'int'>}\n",
       "Members                                                         {<class 'int'>}\n",
       "Favorite                                                        {<class 'int'>}\n",
       "Volumes                                                       {<class 'float'>}\n",
       "Chapters                                                      {<class 'float'>}\n",
       "Status                                                          {<class 'str'>}\n",
       "Genres                                                         {<class 'list'>}\n",
       "Themes                                                         {<class 'list'>}\n",
       "Author                                                         {<class 'list'>}\n",
       "Recommended                                                     {<class 'int'>}\n",
       "Mixed Feelings                                                  {<class 'int'>}\n",
       "Not Recommended                                                 {<class 'int'>}\n",
       "Release date                  {<class 'pandas._libs.tslibs.nattype.NaTType'>...\n",
       "Completed date                {<class 'pandas._libs.tslibs.nattype.NaTType'>...\n",
       "Time from release (months)                                      {<class 'int'>}\n",
       "dtype: object"
      ]
     },
     "execution_count": 24,
     "metadata": {},
     "output_type": "execute_result"
    }
   ],
   "source": [
    "manga_df.apply(open_object_dtype)"
   ]
  },
  {
   "cell_type": "markdown",
   "id": "febf529f",
   "metadata": {},
   "source": [
    "## Exploring data (distribution of values) <a class=\"anchor\" id=\"Exploring data (distribution of values)\"></a>"
   ]
  },
  {
   "cell_type": "markdown",
   "id": "56ec676e",
   "metadata": {},
   "source": [
    "### Distribution of numeric columns <a class=\"anchor\" id=\"Exploring data (distribution of values)\"></a>"
   ]
  },
  {
   "cell_type": "markdown",
   "id": "e964fa68",
   "metadata": {},
   "source": [
    "Columns have numeric data types: \n",
    "+ `Score`\n",
    "+ `Vote`\n",
    "+ `Ranked`\n",
    "+ `Popularity`\n",
    "+ `Members`\n",
    "+ `Favorite`\n",
    "+ `Volumes`\n",
    "+ `Chapters`\n",
    "+ `Recommended`\n",
    "+ `Mixed Feelings`\n",
    "+ `Not Recommended`\n",
    "+ `Release date`\n",
    "+ `Completed date`"
   ]
  },
  {
   "cell_type": "markdown",
   "id": "8ccf7bb7",
   "metadata": {},
   "source": [
    "For columns with numeric data types, we will calculate:\n",
    "- Percentage (from 0 to 100) of missing values\n",
    "- The min\n",
    "- The lower quartile \n",
    "- The median \n",
    "- The upper quartile \n",
    "- The max\n",
    "\n",
    "We will save the results to a DataFrame `num_col_dist_df`, where:\n",
    "- The names of the columns are the names of the numeric columns in `manga_df`\n",
    "- Names of rows: \"missing_ratio\", \"min\", \"lower_quartile\", \"median\", \"upper_quartile\", \"max\"  \n"
   ]
  },
  {
   "cell_type": "code",
   "execution_count": 25,
   "metadata": {},
   "outputs": [
    {
     "name": "stdout",
     "output_type": "stream",
     "text": [
      "Title                                 object\n",
      "Score                                float64\n",
      "Vote                                   int64\n",
      "Ranked                                 int64\n",
      "Popularity                             int64\n",
      "Members                                int64\n",
      "Favorite                               int64\n",
      "Volumes                              float64\n",
      "Chapters                             float64\n",
      "Status                                object\n",
      "Genres                                object\n",
      "Themes                                object\n",
      "Author                                object\n",
      "Recommended                            int64\n",
      "Mixed Feelings                         int64\n",
      "Not Recommended                        int64\n",
      "Release date                  datetime64[ns]\n",
      "Completed date                datetime64[ns]\n",
      "Time from release (months)             int64\n",
      "dtype: object\n"
     ]
    }
   ],
   "source": [
    "print(manga_df.dtypes)\n"
   ]
  },
  {
   "cell_type": "code",
   "execution_count": 26,
   "id": "779f7215",
   "metadata": {},
   "outputs": [
    {
     "data": {
      "text/html": [
       "<div>\n",
       "<style scoped>\n",
       "    .dataframe tbody tr th:only-of-type {\n",
       "        vertical-align: middle;\n",
       "    }\n",
       "\n",
       "    .dataframe tbody tr th {\n",
       "        vertical-align: top;\n",
       "    }\n",
       "\n",
       "    .dataframe thead th {\n",
       "        text-align: right;\n",
       "    }\n",
       "</style>\n",
       "<table border=\"1\" class=\"dataframe\">\n",
       "  <thead>\n",
       "    <tr style=\"text-align: right;\">\n",
       "      <th></th>\n",
       "      <th>Score</th>\n",
       "      <th>Vote</th>\n",
       "      <th>Ranked</th>\n",
       "      <th>Popularity</th>\n",
       "      <th>Members</th>\n",
       "      <th>Favorite</th>\n",
       "      <th>Volumes</th>\n",
       "      <th>Chapters</th>\n",
       "      <th>Recommended</th>\n",
       "      <th>Mixed Feelings</th>\n",
       "      <th>Not Recommended</th>\n",
       "      <th>Release date</th>\n",
       "      <th>Completed date</th>\n",
       "    </tr>\n",
       "  </thead>\n",
       "  <tbody>\n",
       "    <tr>\n",
       "      <th>count</th>\n",
       "      <td>9999.000000</td>\n",
       "      <td>9999.000000</td>\n",
       "      <td>9999.000000</td>\n",
       "      <td>9999.000000</td>\n",
       "      <td>9999.000000</td>\n",
       "      <td>9999.000000</td>\n",
       "      <td>7367.000000</td>\n",
       "      <td>7466.000000</td>\n",
       "      <td>9999.000000</td>\n",
       "      <td>9999.00000</td>\n",
       "      <td>9999.000000</td>\n",
       "      <td>8379</td>\n",
       "      <td>6192</td>\n",
       "    </tr>\n",
       "    <tr>\n",
       "      <th>mean</th>\n",
       "      <td>7.367636</td>\n",
       "      <td>3482.801880</td>\n",
       "      <td>5000.799780</td>\n",
       "      <td>8707.675868</td>\n",
       "      <td>8762.561056</td>\n",
       "      <td>346.272127</td>\n",
       "      <td>6.646803</td>\n",
       "      <td>47.816635</td>\n",
       "      <td>2.946895</td>\n",
       "      <td>0.50465</td>\n",
       "      <td>0.308131</td>\n",
       "      <td>2012-02-15 19:49:56.777658368</td>\n",
       "      <td>2012-06-18 10:11:37.674418688</td>\n",
       "    </tr>\n",
       "    <tr>\n",
       "      <th>min</th>\n",
       "      <td>6.910000</td>\n",
       "      <td>101.000000</td>\n",
       "      <td>1.000000</td>\n",
       "      <td>1.000000</td>\n",
       "      <td>193.000000</td>\n",
       "      <td>0.000000</td>\n",
       "      <td>1.000000</td>\n",
       "      <td>1.000000</td>\n",
       "      <td>0.000000</td>\n",
       "      <td>0.00000</td>\n",
       "      <td>0.000000</td>\n",
       "      <td>1950-01-15 00:00:00</td>\n",
       "      <td>1951-02-20 00:00:00</td>\n",
       "    </tr>\n",
       "    <tr>\n",
       "      <th>25%</th>\n",
       "      <td>7.080000</td>\n",
       "      <td>316.000000</td>\n",
       "      <td>2500.500000</td>\n",
       "      <td>3099.500000</td>\n",
       "      <td>1127.000000</td>\n",
       "      <td>6.000000</td>\n",
       "      <td>2.000000</td>\n",
       "      <td>8.000000</td>\n",
       "      <td>0.000000</td>\n",
       "      <td>0.00000</td>\n",
       "      <td>0.000000</td>\n",
       "      <td>2008-02-22 00:00:00</td>\n",
       "      <td>2008-12-08 18:00:00</td>\n",
       "    </tr>\n",
       "    <tr>\n",
       "      <th>50%</th>\n",
       "      <td>7.280000</td>\n",
       "      <td>786.000000</td>\n",
       "      <td>5000.000000</td>\n",
       "      <td>7345.000000</td>\n",
       "      <td>2465.000000</td>\n",
       "      <td>19.000000</td>\n",
       "      <td>4.000000</td>\n",
       "      <td>23.000000</td>\n",
       "      <td>1.000000</td>\n",
       "      <td>0.00000</td>\n",
       "      <td>0.000000</td>\n",
       "      <td>2013-04-05 00:00:00</td>\n",
       "      <td>2013-10-27 00:00:00</td>\n",
       "    </tr>\n",
       "    <tr>\n",
       "      <th>75%</th>\n",
       "      <td>7.560000</td>\n",
       "      <td>2232.500000</td>\n",
       "      <td>7501.500000</td>\n",
       "      <td>13222.000000</td>\n",
       "      <td>6349.000000</td>\n",
       "      <td>74.000000</td>\n",
       "      <td>9.000000</td>\n",
       "      <td>56.000000</td>\n",
       "      <td>3.000000</td>\n",
       "      <td>0.00000</td>\n",
       "      <td>0.000000</td>\n",
       "      <td>2018-02-27 12:00:00</td>\n",
       "      <td>2018-05-01 06:00:00</td>\n",
       "    </tr>\n",
       "    <tr>\n",
       "      <th>max</th>\n",
       "      <td>9.470000</td>\n",
       "      <td>400404.000000</td>\n",
       "      <td>10004.000000</td>\n",
       "      <td>33358.000000</td>\n",
       "      <td>665300.000000</td>\n",
       "      <td>122841.000000</td>\n",
       "      <td>200.000000</td>\n",
       "      <td>1957.000000</td>\n",
       "      <td>280.000000</td>\n",
       "      <td>56.00000</td>\n",
       "      <td>112.000000</td>\n",
       "      <td>2023-11-27 00:00:00</td>\n",
       "      <td>2023-11-27 00:00:00</td>\n",
       "    </tr>\n",
       "    <tr>\n",
       "      <th>std</th>\n",
       "      <td>0.378047</td>\n",
       "      <td>13940.433196</td>\n",
       "      <td>2887.483754</td>\n",
       "      <td>6663.591423</td>\n",
       "      <td>27600.905793</td>\n",
       "      <td>2732.543168</td>\n",
       "      <td>8.238083</td>\n",
       "      <td>77.789013</td>\n",
       "      <td>9.038939</td>\n",
       "      <td>1.94389</td>\n",
       "      <td>1.851229</td>\n",
       "      <td>NaN</td>\n",
       "      <td>NaN</td>\n",
       "    </tr>\n",
       "    <tr>\n",
       "      <th>missing ratios</th>\n",
       "      <td>0.000000</td>\n",
       "      <td>0.000000</td>\n",
       "      <td>0.000000</td>\n",
       "      <td>0.000000</td>\n",
       "      <td>0.000000</td>\n",
       "      <td>0.000000</td>\n",
       "      <td>26.322632</td>\n",
       "      <td>25.332533</td>\n",
       "      <td>0.000000</td>\n",
       "      <td>0.00000</td>\n",
       "      <td>0.000000</td>\n",
       "      <td>16.20162</td>\n",
       "      <td>38.073807</td>\n",
       "    </tr>\n",
       "  </tbody>\n",
       "</table>\n",
       "</div>"
      ],
      "text/plain": [
       "                      Score           Vote        Ranked    Popularity  \\\n",
       "count           9999.000000    9999.000000   9999.000000   9999.000000   \n",
       "mean               7.367636    3482.801880   5000.799780   8707.675868   \n",
       "min                6.910000     101.000000      1.000000      1.000000   \n",
       "25%                7.080000     316.000000   2500.500000   3099.500000   \n",
       "50%                7.280000     786.000000   5000.000000   7345.000000   \n",
       "75%                7.560000    2232.500000   7501.500000  13222.000000   \n",
       "max                9.470000  400404.000000  10004.000000  33358.000000   \n",
       "std                0.378047   13940.433196   2887.483754   6663.591423   \n",
       "missing ratios     0.000000       0.000000      0.000000      0.000000   \n",
       "\n",
       "                      Members       Favorite      Volumes     Chapters  \\\n",
       "count             9999.000000    9999.000000  7367.000000  7466.000000   \n",
       "mean              8762.561056     346.272127     6.646803    47.816635   \n",
       "min                193.000000       0.000000     1.000000     1.000000   \n",
       "25%               1127.000000       6.000000     2.000000     8.000000   \n",
       "50%               2465.000000      19.000000     4.000000    23.000000   \n",
       "75%               6349.000000      74.000000     9.000000    56.000000   \n",
       "max             665300.000000  122841.000000   200.000000  1957.000000   \n",
       "std              27600.905793    2732.543168     8.238083    77.789013   \n",
       "missing ratios       0.000000       0.000000    26.322632    25.332533   \n",
       "\n",
       "                Recommended  Mixed Feelings  Not Recommended  \\\n",
       "count           9999.000000      9999.00000      9999.000000   \n",
       "mean               2.946895         0.50465         0.308131   \n",
       "min                0.000000         0.00000         0.000000   \n",
       "25%                0.000000         0.00000         0.000000   \n",
       "50%                1.000000         0.00000         0.000000   \n",
       "75%                3.000000         0.00000         0.000000   \n",
       "max              280.000000        56.00000       112.000000   \n",
       "std                9.038939         1.94389         1.851229   \n",
       "missing ratios     0.000000         0.00000         0.000000   \n",
       "\n",
       "                                 Release date                 Completed date  \n",
       "count                                    8379                           6192  \n",
       "mean            2012-02-15 19:49:56.777658368  2012-06-18 10:11:37.674418688  \n",
       "min                       1950-01-15 00:00:00            1951-02-20 00:00:00  \n",
       "25%                       2008-02-22 00:00:00            2008-12-08 18:00:00  \n",
       "50%                       2013-04-05 00:00:00            2013-10-27 00:00:00  \n",
       "75%                       2018-02-27 12:00:00            2018-05-01 06:00:00  \n",
       "max                       2023-11-27 00:00:00            2023-11-27 00:00:00  \n",
       "std                                       NaN                            NaN  \n",
       "missing ratios                       16.20162                      38.073807  "
      ]
     },
     "execution_count": 26,
     "metadata": {},
     "output_type": "execute_result"
    }
   ],
   "source": [
    "num_col_dist_df = manga_df[['Score','Vote','Ranked','Popularity','Members','Favorite','Volumes','Chapters','Recommended','Mixed Feelings','Not Recommended', 'Release date', 'Completed date']]\n",
    "\n",
    "missing_percentage = num_col_dist_df.isna().mean() * 100\n",
    "\n",
    "num_col_dist_df = num_col_dist_df.describe(percentiles=[.25, .5, .75])\n",
    "\n",
    "num_col_dist_df.loc['missing ratios'] = missing_percentage\n",
    "\n",
    "num_col_dist_df"
   ]
  },
  {
   "cell_type": "markdown",
   "id": "cdc2b27a",
   "metadata": {},
   "source": [
    "As we can see:\n",
    "+ About missing percentage:\n",
    "    + All columns except `Volumes` and `Chapters` have full data\n",
    "    \n",
    "    + The column `Volumes` has **26.3%** of the total values missing. While the `Chapters` column is **25.3%**. It can be seen that the missing rate of these two columns is not too high and is acceptable. Columns `Volumes` and `Chapters` are missing mainly due to their `Status` (incomplete, on hold, on hiatus,...), because these two columns only display volume and chapter numbers when that set has ended (completed or stopped indefinitely).\n",
    "    \n",
    "    + `Release date` is missing **24.9%** of the data, likely because the information is not available or the manga has not been released yet.\n",
    "    \n",
    "     + `Completed date` is missing a lot, more than **40%**. The reason may be that the manga is not completed or there is no information.\n",
    "     \n",
    "+ About min, median (50%), lower quartile (25%), upper quartile (75%) and max:\n",
    "     + Except for the `Score` column, numeric columns all have very wide ranges\n",
    "     \n",
    "     + The manga series in the data were all released between December 1962 and November 2023.\n",
    "     \n",
    "     + If the manga series in the data have been completed, they were all completed between May 1966 and November 2023."
   ]
  },
  {
   "cell_type": "code",
   "execution_count": 27,
   "id": "7d878785",
   "metadata": {},
   "outputs": [
    {
     "data": {
      "text/plain": [
       "(array(['Discontinued', 'Finished', 'On Hiatus', 'Publishing'],\n",
       "       dtype=object),\n",
       " array([   2,  632,    7, 1991], dtype=int64))"
      ]
     },
     "execution_count": 27,
     "metadata": {},
     "output_type": "execute_result"
    }
   ],
   "source": [
    "# Missing manga volume number column grouped by status\n",
    "np.unique(manga_df['Status'][manga_df['Volumes'].isna()], return_counts=True)"
   ]
  },
  {
   "cell_type": "code",
   "execution_count": 28,
   "id": "354badf1",
   "metadata": {},
   "outputs": [
    {
     "data": {
      "text/plain": [
       "(array(['Discontinued', 'Finished', 'On Hiatus', 'Publishing'],\n",
       "       dtype=object),\n",
       " array([   1,  524,   18, 1990], dtype=int64))"
      ]
     },
     "execution_count": 28,
     "metadata": {},
     "output_type": "execute_result"
    }
   ],
   "source": [
    "# Missing manga chapter number column grouped by status\n",
    "np.unique(manga_df['Status'][manga_df['Chapters'].isna()], return_counts=True)"
   ]
  },
  {
   "cell_type": "markdown",
   "id": "4ab8fe0d",
   "metadata": {},
   "source": [
    "+ As mentioned above, the manga is missing chapters or volumes because it is not yet completed and are in progress (Publishing). `Chapters` and `Volumes` will be updated when the manga is completed or discontinued.\n",
    "\n",
    "+ For manga that only have 'Chapters' but no 'Volumes', the biggest reason is one-shot manga series (series with only 1 chapter) so there will be no volumes. Such one-shot manga make up a large proportion on MAL.\n",
    "\n",
    "+ For manga that only have 'Volumes' but no 'Chapters', the biggest reason is that light novels (light_novels or novels) are often published in volumes and the author does not divide chapters when writing. There are also many novel series on MAL."
   ]
  },
  {
   "cell_type": "markdown",
   "id": "43f0a465",
   "metadata": {},
   "source": [
    "Next, after identifying the basic statistical numbers that describe our data, we further need to determine the features that have a large number of missing values. Such features are not useful for the analysis stage and must be removed from the dataset.\n",
    "\n",
    "We decided that if the percentage of missing values is greater than 75%, the column is dropped from the dataframe and an updated dataframe is returned."
   ]
  },
  {
   "cell_type": "code",
   "execution_count": 29,
   "id": "1302f8fc",
   "metadata": {},
   "outputs": [],
   "source": [
    "def drop_missing_features(df: pd.DataFrame, missing_lst: dict = dict(num_col_dist_df.iloc[0]), threshold: float = 75.0) -> pd.DataFrame:\n",
    "    if (df is None) or (missing_lst is None) or (threshold is None):\n",
    "        print(f\"[LOG] Invalid.\")\n",
    "        raise ValueError\n",
    "    \n",
    "    # Create a copy of the dataframe to avoid changing the original\n",
    "    df_cp = df.copy()\n",
    "    \n",
    "    # List to maintain the columns to drop\n",
    "    cols_to_trim = []\n",
    "    \n",
    "    for key, value in missing_lst.items():\n",
    "        if float(value) > threshold:\n",
    "            cols_to_trim.append(key)\n",
    "            \n",
    "    if len(cols_to_trim) > 0:\n",
    "        # drop the columns identified using the dataframe drop() method\n",
    "        df_cp = df_cp.drop(columns=cols_to_trim)\n",
    "        print(\"[LOG] Dropped columns: \" + \" \".join(cols_to_trim))\n",
    "    else:\n",
    "        print(\"[LOG] Have no columns to trim.\")\n",
    "        \n",
    "    return df_cp"
   ]
  },
  {
   "cell_type": "code",
   "execution_count": 30,
   "id": "4d642885",
   "metadata": {},
   "outputs": [
    {
     "name": "stdout",
     "output_type": "stream",
     "text": [
      "[LOG] Have no columns to trim.\n"
     ]
    }
   ],
   "source": [
    "manga_df = drop_missing_features(manga_df, dict(num_col_dist_df.loc['missing ratios']))"
   ]
  },
  {
   "cell_type": "markdown",
   "id": "241a8529",
   "metadata": {},
   "source": [
    "After remove features which have large missing values, our dataframe still have missing values. So that, we need to fill these missing values so that they can be used in analysis.\n",
    "\n",
    "We fill these missing values with the **median** of the column values."
   ]
  },
  {
   "cell_type": "code",
   "execution_count": 31,
   "id": "1bd4b2e7",
   "metadata": {},
   "outputs": [],
   "source": [
    "def filling_missing_value(df: pd.DataFrame) -> pd.DataFrame:\n",
    "    if (df is None):\n",
    "        print(f\"[LOG] Invalid.\")\n",
    "        raise ValueError\n",
    "    \n",
    "    # Create a copy of the dataframe to avoid changing the original\n",
    "    df_cp = df.copy()\n",
    "    \n",
    "    # Get the list of columns in the dataframe\n",
    "    cols_list = list(df_cp.columns)\n",
    "    \n",
    "    # Exclude the last column - Country, Year\n",
    "    cols_list.remove(\"Title\")\n",
    "    cols_list.remove(\"Status\")\n",
    "    cols_list.remove(\"Genres\")\n",
    "    cols_list.remove(\"Themes\")\n",
    "    cols_list.remove(\"Author\")\n",
    "    cols_list.remove(\"Release date\")\n",
    "    cols_list.remove(\"Completed date\")\n",
    "    \n",
    "    # Replace all None values with NaN, fillna only works on nans\n",
    "    df_cp.fillna(value=np.nan, inplace=True)\n",
    "    \n",
    "    # Replace all NaN values with the median of the column values\n",
    "    for col in cols_list:\n",
    "        df_cp[col].fillna((df_cp[col].median()), inplace=True)\n",
    "        \n",
    "    return df_cp"
   ]
  },
  {
   "cell_type": "code",
   "execution_count": 32,
   "id": "10eba858",
   "metadata": {},
   "outputs": [],
   "source": [
    "manga_df = filling_missing_value(df=manga_df)"
   ]
  },
  {
   "cell_type": "markdown",
   "id": "9586e9a6",
   "metadata": {},
   "source": [
    "## Distribution of non-numeric columns <a class=\"anchor\" id=\"Distribution of non-numeric columns\"></a>"
   ]
  },
  {
   "cell_type": "markdown",
   "id": "88f6e353",
   "metadata": {},
   "source": [
    "Columns have non-numeric data types: \n",
    "\n",
    "+ `Title`\n",
    "+ `Status`\n",
    "+ `Genres`\n",
    "+ `Themes`\n",
    "+ `Author`\n"
   ]
  },
  {
   "cell_type": "markdown",
   "id": "a3fe6527",
   "metadata": {},
   "source": [
    "For columns with non-numeric data types, we calculate:\n",
    "- Percentage (from 0 to 100) of missing values\n",
    "- Number of values (the values here are different values and we do not consider missing values)\n",
    "- The percentage (from 0 to 100) of each value is sorted by decreasing percentage (we do not consider missing values, the ratio is the ratio compared to the number of non-missing values)\n"
   ]
  },
  {
   "cell_type": "markdown",
   "id": "91142003",
   "metadata": {},
   "source": [
    "### Considering columns of type string:  `Title`, `Status`, `Author` <a class=\"anchor\" id=\"Distribution of non-numeric columns\"></a>"
   ]
  },
  {
   "cell_type": "code",
   "execution_count": 33,
   "id": "d804c211",
   "metadata": {},
   "outputs": [
    {
     "data": {
      "text/html": [
       "<div>\n",
       "<style scoped>\n",
       "    .dataframe tbody tr th:only-of-type {\n",
       "        vertical-align: middle;\n",
       "    }\n",
       "\n",
       "    .dataframe tbody tr th {\n",
       "        vertical-align: top;\n",
       "    }\n",
       "\n",
       "    .dataframe thead th {\n",
       "        text-align: right;\n",
       "    }\n",
       "</style>\n",
       "<table border=\"1\" class=\"dataframe\">\n",
       "  <thead>\n",
       "    <tr style=\"text-align: right;\">\n",
       "      <th></th>\n",
       "      <th>Title</th>\n",
       "      <th>Status</th>\n",
       "      <th>Author</th>\n",
       "    </tr>\n",
       "  </thead>\n",
       "  <tbody>\n",
       "    <tr>\n",
       "      <th>Missing_ratio</th>\n",
       "      <td>0.0</td>\n",
       "      <td>0.0</td>\n",
       "      <td>0.0</td>\n",
       "    </tr>\n",
       "    <tr>\n",
       "      <th>Num_diff_vals</th>\n",
       "      <td>9684</td>\n",
       "      <td>4</td>\n",
       "      <td>6231</td>\n",
       "    </tr>\n",
       "    <tr>\n",
       "      <th>Diff_vals</th>\n",
       "      <td>[Berserk, JoJo no Kimyou na Bouken Part 7: Ste...</td>\n",
       "      <td>[Publishing, Finished, On Hiatus, Discontinued]</td>\n",
       "      <td>[(Miura Kentarou Studio Gaga,), (Araki Hirohik...</td>\n",
       "    </tr>\n",
       "  </tbody>\n",
       "</table>\n",
       "</div>"
      ],
      "text/plain": [
       "                                                           Title  \\\n",
       "Missing_ratio                                                0.0   \n",
       "Num_diff_vals                                               9684   \n",
       "Diff_vals      [Berserk, JoJo no Kimyou na Bouken Part 7: Ste...   \n",
       "\n",
       "                                                        Status  \\\n",
       "Missing_ratio                                              0.0   \n",
       "Num_diff_vals                                                4   \n",
       "Diff_vals      [Publishing, Finished, On Hiatus, Discontinued]   \n",
       "\n",
       "                                                          Author  \n",
       "Missing_ratio                                                0.0  \n",
       "Num_diff_vals                                               6231  \n",
       "Diff_vals      [(Miura Kentarou Studio Gaga,), (Araki Hirohik...  "
      ]
     },
     "execution_count": 33,
     "metadata": {},
     "output_type": "execute_result"
    }
   ],
   "source": [
    "str_col_dist_df = pd.DataFrame({'Title': [.0] * 3,\n",
    "                                'Status': [.0] * 3,\n",
    "                                'Author': [.0] * 3},\n",
    "                                index=['Missing_ratio', 'Num_diff_vals', 'Diff_vals'], dtype=object)\n",
    "\n",
    "def get_num_diff_vals(column):\n",
    "    # Convert lists in the column to tuples\n",
    "    non_empty_values = column[column != ''].apply(lambda x: tuple(x) if isinstance(x, list) else x)\n",
    "    return non_empty_values.nunique()\n",
    "\n",
    "str_col_dist_df.loc['Num_diff_vals'] = manga_df[str_col_dist_df.columns].apply(get_num_diff_vals)\n",
    "str_col_dist_df.loc['Diff_vals'] = manga_df[str_col_dist_df.columns].apply(lambda col: col[col != ''].apply(lambda x: tuple(x) if isinstance(x, list) else x).unique())\n",
    "str_col_dist_df.loc['Missing_ratio'] = np.sum(manga_df[str_col_dist_df.columns] == '', axis=0) / manga_df.shape[0] * 100\n",
    "str_col_dist_df"
   ]
  },
  {
   "cell_type": "markdown",
   "id": "911870ef",
   "metadata": {},
   "source": [
    "*General views:*\n",
    "\n",
    "+ About Missing_ratio:\n",
    "     + The `Title` column, `Author` column and `Status` column have full data\n",
    "     \n",
    "+ About Num_diff_vals and Diff_vals:\n",
    "     + There are still manga series with duplicate titles because the Num_diff_vals of the `Title` column is 9685 while there are 10000 lines of data and this column is not missing data.\n",
    "     + The `Author` column still has overlap.\n",
    "     + The `Status` column includes 4 status: Publishing, Finished, On Hiatus, Discontinued"
   ]
  },
  {
   "cell_type": "code",
   "execution_count": 34,
   "metadata": {},
   "outputs": [],
   "source": [
    "manga_df = manga_df.replace('', np.nan).dropna(subset=['Author'])"
   ]
  },
  {
   "cell_type": "markdown",
   "id": "40365459",
   "metadata": {},
   "source": [
    "**`Tittle`** has 170 most appearances"
   ]
  },
  {
   "cell_type": "code",
   "execution_count": 35,
   "id": "bc18898f",
   "metadata": {},
   "outputs": [
    {
     "data": {
      "text/html": [
       "<div>\n",
       "<style scoped>\n",
       "    .dataframe tbody tr th:only-of-type {\n",
       "        vertical-align: middle;\n",
       "    }\n",
       "\n",
       "    .dataframe tbody tr th {\n",
       "        vertical-align: top;\n",
       "    }\n",
       "\n",
       "    .dataframe thead th {\n",
       "        text-align: right;\n",
       "    }\n",
       "</style>\n",
       "<table border=\"1\" class=\"dataframe\">\n",
       "  <thead>\n",
       "    <tr style=\"text-align: right;\">\n",
       "      <th></th>\n",
       "      <th>Title</th>\n",
       "    </tr>\n",
       "  </thead>\n",
       "  <tbody>\n",
       "    <tr>\n",
       "      <th>0</th>\n",
       "      <td>Clover</td>\n",
       "    </tr>\n",
       "  </tbody>\n",
       "</table>\n",
       "</div>"
      ],
      "text/plain": [
       "    Title\n",
       "0  Clover"
      ]
     },
     "execution_count": 35,
     "metadata": {},
     "output_type": "execute_result"
    }
   ],
   "source": [
    "manga_df[['Title']].mode()"
   ]
  },
  {
   "cell_type": "markdown",
   "id": "981ac99b",
   "metadata": {},
   "source": [
    "**`Status`** finished is the most common"
   ]
  },
  {
   "cell_type": "code",
   "execution_count": 36,
   "id": "852a0fe8",
   "metadata": {},
   "outputs": [
    {
     "data": {
      "image/png": "[encoded data removed]",
      "text/plain": [
       "<Figure size 640x480 with 1 Axes>"
      ]
     },
     "metadata": {},
     "output_type": "display_data"
    }
   ],
   "source": [
    "plt.pie(manga_df.groupby('Status')['Status'].count().values, labels=manga_df.groupby('Status')['Status'].count().index, autopct = '%.1f%%');"
   ]
  },
  {
   "cell_type": "markdown",
   "id": "3eea20f0",
   "metadata": {},
   "source": [
    "The most frequently appearing **`Author`** is Tezuka, Osamu (Story & Art)"
   ]
  },
  {
   "cell_type": "code",
   "execution_count": 37,
   "id": "8dc94c45",
   "metadata": {},
   "outputs": [
    {
     "data": {
      "text/html": [
       "<div>\n",
       "<style scoped>\n",
       "    .dataframe tbody tr th:only-of-type {\n",
       "        vertical-align: middle;\n",
       "    }\n",
       "\n",
       "    .dataframe tbody tr th {\n",
       "        vertical-align: top;\n",
       "    }\n",
       "\n",
       "    .dataframe thead th {\n",
       "        text-align: right;\n",
       "    }\n",
       "</style>\n",
       "<table border=\"1\" class=\"dataframe\">\n",
       "  <thead>\n",
       "    <tr style=\"text-align: right;\">\n",
       "      <th></th>\n",
       "      <th>Author</th>\n",
       "    </tr>\n",
       "  </thead>\n",
       "  <tbody>\n",
       "    <tr>\n",
       "      <th>0</th>\n",
       "      <td>[Tezuka Osamu]</td>\n",
       "    </tr>\n",
       "  </tbody>\n",
       "</table>\n",
       "</div>"
      ],
      "text/plain": [
       "           Author\n",
       "0  [Tezuka Osamu]"
      ]
     },
     "execution_count": 37,
     "metadata": {},
     "output_type": "execute_result"
    }
   ],
   "source": [
    "manga_df[['Author']].mode()"
   ]
  },
  {
   "cell_type": "markdown",
   "id": "a018fefb",
   "metadata": {},
   "source": [
    "### Considering columns of type list:  `Genres`, `Themes` <a class=\"anchor\" id=\"Distribution of non-numeric columns\"></a>"
   ]
  },
  {
   "cell_type": "markdown",
   "id": "58a29133",
   "metadata": {},
   "source": [
    "With the columns representing the classification and each row in that column will be a list (combination of classifications), we will concatenate the lists (in each column) together and use unique to calculate the `diff_vals` for each column, `num_diff_vals` will be the length of the calculated `diff_vals` and `missing_ratio` will be the ratio of rows with empty lists for each column"
   ]
  },
  {
   "cell_type": "code",
   "execution_count": 38,
   "id": "0aadc715",
   "metadata": {},
   "outputs": [
    {
     "data": {
      "text/html": [
       "<div>\n",
       "<style scoped>\n",
       "    .dataframe tbody tr th:only-of-type {\n",
       "        vertical-align: middle;\n",
       "    }\n",
       "\n",
       "    .dataframe tbody tr th {\n",
       "        vertical-align: top;\n",
       "    }\n",
       "\n",
       "    .dataframe thead th {\n",
       "        text-align: right;\n",
       "    }\n",
       "</style>\n",
       "<table border=\"1\" class=\"dataframe\">\n",
       "  <thead>\n",
       "    <tr style=\"text-align: right;\">\n",
       "      <th></th>\n",
       "      <th>Genres</th>\n",
       "      <th>Themes</th>\n",
       "    </tr>\n",
       "  </thead>\n",
       "  <tbody>\n",
       "    <tr>\n",
       "      <th>Missing_ratio</th>\n",
       "      <td>0.0</td>\n",
       "      <td>0.0</td>\n",
       "    </tr>\n",
       "    <tr>\n",
       "      <th>Num_diff_vals</th>\n",
       "      <td>19</td>\n",
       "      <td>52</td>\n",
       "    </tr>\n",
       "    <tr>\n",
       "      <th>Diff_vals</th>\n",
       "      <td>[Action, Adventure, Avant Garde, Award Winning...</td>\n",
       "      <td>[Adult Cast, Anthropomorphic, CGDCT, Childcare...</td>\n",
       "    </tr>\n",
       "  </tbody>\n",
       "</table>\n",
       "</div>"
      ],
      "text/plain": [
       "                                                          Genres  \\\n",
       "Missing_ratio                                                0.0   \n",
       "Num_diff_vals                                                 19   \n",
       "Diff_vals      [Action, Adventure, Avant Garde, Award Winning...   \n",
       "\n",
       "                                                          Themes  \n",
       "Missing_ratio                                                0.0  \n",
       "Num_diff_vals                                                 52  \n",
       "Diff_vals      [Adult Cast, Anthropomorphic, CGDCT, Childcare...  "
      ]
     },
     "execution_count": 38,
     "metadata": {},
     "output_type": "execute_result"
    }
   ],
   "source": [
    "list_col_dist_df = pd.DataFrame({'Genres': [.0] * 3,\n",
    "                                 'Themes': [.0] * 3},\n",
    "                                  index=['Missing_ratio', 'Num_diff_vals', 'Diff_vals'], dtype=object)\n",
    "\n",
    "for col in ['Genres', 'Themes']:\n",
    "    manga_df[col] = manga_df[col].apply(lambda x: x if isinstance(x, list) else [])\n",
    "\n",
    "# Concatenate and find unique values\n",
    "list_col_dist_df.loc['Diff_vals'][['Genres', 'Themes']] = \\\n",
    "    manga_df[['Genres', 'Themes']].apply(lambda col: np.unique(np.concatenate(col.values)))\n",
    "\n",
    "# Calculate the number of different values\n",
    "list_col_dist_df.loc['Num_diff_vals'][['Genres', 'Themes']] = list_col_dist_df.loc['Diff_vals'][['Genres', 'Themes']].apply(len)\n",
    "\n",
    "list_col_dist_df"
   ]
  },
  {
   "cell_type": "markdown",
   "id": "62f80ff3",
   "metadata": {},
   "source": [
    "*General view:*\n",
    "\n",
    "+ About Missing_ratio:\n",
    "     + `Genres` is missing a lot of data, missing **27.13%** of the data\n",
    "     + `Themes` is missing a lot of data, up to **82.21%** of the data\n",
    "    \n",
    "+ About Num_diff_vals, Diff_vals:\n",
    "     + `Genres` has 19 types\n",
    "     + `Themes` has 52 types"
   ]
  },
  {
   "cell_type": "markdown",
   "id": "8d3a2ef1",
   "metadata": {},
   "source": [
    "The missing data rate of the `Themes` column is 82.21% (greater than 75%), so we will proceed to remove this column from the data."
   ]
  },
  {
   "cell_type": "code",
   "execution_count": 39,
   "id": "8a04b33b",
   "metadata": {},
   "outputs": [],
   "source": [
    "manga_df = manga_df.drop(columns='Themes')"
   ]
  },
  {
   "cell_type": "markdown",
   "metadata": {},
   "source": [
    "The elevated rate of missing values in the **`Completed date`** column, amounting to **40%**, poses a risk to the accuracy and reliability of predictive models when imputation is applied. Recognizing the potential drawbacks linked to attempting to fill in these gaps, it is prudent to opt for the exclusion of this column during the data preprocessing stage."
   ]
  },
  {
   "cell_type": "code",
   "execution_count": 40,
   "metadata": {},
   "outputs": [
    {
     "data": {
      "text/html": [
       "<div>\n",
       "<style scoped>\n",
       "    .dataframe tbody tr th:only-of-type {\n",
       "        vertical-align: middle;\n",
       "    }\n",
       "\n",
       "    .dataframe tbody tr th {\n",
       "        vertical-align: top;\n",
       "    }\n",
       "\n",
       "    .dataframe thead th {\n",
       "        text-align: right;\n",
       "    }\n",
       "</style>\n",
       "<table border=\"1\" class=\"dataframe\">\n",
       "  <thead>\n",
       "    <tr style=\"text-align: right;\">\n",
       "      <th></th>\n",
       "      <th>Title</th>\n",
       "      <th>Score</th>\n",
       "      <th>Vote</th>\n",
       "      <th>Ranked</th>\n",
       "      <th>Popularity</th>\n",
       "      <th>Members</th>\n",
       "      <th>Favorite</th>\n",
       "      <th>Volumes</th>\n",
       "      <th>Chapters</th>\n",
       "      <th>Status</th>\n",
       "      <th>Genres</th>\n",
       "      <th>Author</th>\n",
       "      <th>Recommended</th>\n",
       "      <th>Mixed Feelings</th>\n",
       "      <th>Not Recommended</th>\n",
       "      <th>Release date</th>\n",
       "      <th>Time from release (months)</th>\n",
       "    </tr>\n",
       "  </thead>\n",
       "  <tbody>\n",
       "    <tr>\n",
       "      <th>0</th>\n",
       "      <td>Berserk</td>\n",
       "      <td>9.47</td>\n",
       "      <td>331288</td>\n",
       "      <td>1</td>\n",
       "      <td>1</td>\n",
       "      <td>665300</td>\n",
       "      <td>122841</td>\n",
       "      <td>4.0</td>\n",
       "      <td>23.0</td>\n",
       "      <td>Publishing</td>\n",
       "      <td>[Action, Adventure, Award Winning, Drama, Fant...</td>\n",
       "      <td>[Miura Kentarou Studio Gaga]</td>\n",
       "      <td>233</td>\n",
       "      <td>15</td>\n",
       "      <td>10</td>\n",
       "      <td>1989-08-25</td>\n",
       "      <td>411</td>\n",
       "    </tr>\n",
       "    <tr>\n",
       "      <th>1</th>\n",
       "      <td>JoJo no Kimyou na Bouken Part 7: Steel Ball Run</td>\n",
       "      <td>9.30</td>\n",
       "      <td>156368</td>\n",
       "      <td>2</td>\n",
       "      <td>26</td>\n",
       "      <td>256146</td>\n",
       "      <td>42864</td>\n",
       "      <td>24.0</td>\n",
       "      <td>96.0</td>\n",
       "      <td>Finished</td>\n",
       "      <td>[Action, Adventure, Mystery, Supernatural]</td>\n",
       "      <td>[Araki Hirohiko]</td>\n",
       "      <td>120</td>\n",
       "      <td>7</td>\n",
       "      <td>1</td>\n",
       "      <td>2004-01-19</td>\n",
       "      <td>87</td>\n",
       "    </tr>\n",
       "    <tr>\n",
       "      <th>2</th>\n",
       "      <td>Vagabond</td>\n",
       "      <td>9.24</td>\n",
       "      <td>136403</td>\n",
       "      <td>3</td>\n",
       "      <td>15</td>\n",
       "      <td>364891</td>\n",
       "      <td>40158</td>\n",
       "      <td>37.0</td>\n",
       "      <td>327.0</td>\n",
       "      <td>On Hiatus</td>\n",
       "      <td>[Action, Adventure, Award Winning]</td>\n",
       "      <td>[Inoue Takehiko Yoshikawa Eiji]</td>\n",
       "      <td>88</td>\n",
       "      <td>8</td>\n",
       "      <td>1</td>\n",
       "      <td>1998-09-03</td>\n",
       "      <td>201</td>\n",
       "    </tr>\n",
       "    <tr>\n",
       "      <th>3</th>\n",
       "      <td>One Piece</td>\n",
       "      <td>9.22</td>\n",
       "      <td>366668</td>\n",
       "      <td>4</td>\n",
       "      <td>3</td>\n",
       "      <td>599278</td>\n",
       "      <td>114531</td>\n",
       "      <td>4.0</td>\n",
       "      <td>23.0</td>\n",
       "      <td>Publishing</td>\n",
       "      <td>[Action, Adventure, Fantasy]</td>\n",
       "      <td>[Oda Eiichiro]</td>\n",
       "      <td>173</td>\n",
       "      <td>17</td>\n",
       "      <td>16</td>\n",
       "      <td>1997-07-22</td>\n",
       "      <td>316</td>\n",
       "    </tr>\n",
       "    <tr>\n",
       "      <th>4</th>\n",
       "      <td>Monster</td>\n",
       "      <td>9.15</td>\n",
       "      <td>93945</td>\n",
       "      <td>5</td>\n",
       "      <td>29</td>\n",
       "      <td>236355</td>\n",
       "      <td>20501</td>\n",
       "      <td>18.0</td>\n",
       "      <td>162.0</td>\n",
       "      <td>Finished</td>\n",
       "      <td>[Award Winning, Drama, Mystery]</td>\n",
       "      <td>[Urasawa Naoki]</td>\n",
       "      <td>64</td>\n",
       "      <td>7</td>\n",
       "      <td>5</td>\n",
       "      <td>1994-12-05</td>\n",
       "      <td>84</td>\n",
       "    </tr>\n",
       "  </tbody>\n",
       "</table>\n",
       "</div>"
      ],
      "text/plain": [
       "                                             Title  Score    Vote  Ranked  \\\n",
       "0                                          Berserk   9.47  331288       1   \n",
       "1  JoJo no Kimyou na Bouken Part 7: Steel Ball Run   9.30  156368       2   \n",
       "2                                         Vagabond   9.24  136403       3   \n",
       "3                                        One Piece   9.22  366668       4   \n",
       "4                                          Monster   9.15   93945       5   \n",
       "\n",
       "   Popularity  Members  Favorite  Volumes  Chapters      Status  \\\n",
       "0           1   665300    122841      4.0      23.0  Publishing   \n",
       "1          26   256146     42864     24.0      96.0    Finished   \n",
       "2          15   364891     40158     37.0     327.0   On Hiatus   \n",
       "3           3   599278    114531      4.0      23.0  Publishing   \n",
       "4          29   236355     20501     18.0     162.0    Finished   \n",
       "\n",
       "                                              Genres  \\\n",
       "0  [Action, Adventure, Award Winning, Drama, Fant...   \n",
       "1         [Action, Adventure, Mystery, Supernatural]   \n",
       "2                 [Action, Adventure, Award Winning]   \n",
       "3                       [Action, Adventure, Fantasy]   \n",
       "4                    [Award Winning, Drama, Mystery]   \n",
       "\n",
       "                            Author  Recommended  Mixed Feelings  \\\n",
       "0     [Miura Kentarou Studio Gaga]          233              15   \n",
       "1                 [Araki Hirohiko]          120               7   \n",
       "2  [Inoue Takehiko Yoshikawa Eiji]           88               8   \n",
       "3                   [Oda Eiichiro]          173              17   \n",
       "4                  [Urasawa Naoki]           64               7   \n",
       "\n",
       "   Not Recommended Release date  Time from release (months)  \n",
       "0               10   1989-08-25                         411  \n",
       "1                1   2004-01-19                          87  \n",
       "2                1   1998-09-03                         201  \n",
       "3               16   1997-07-22                         316  \n",
       "4                5   1994-12-05                          84  "
      ]
     },
     "execution_count": 40,
     "metadata": {},
     "output_type": "execute_result"
    }
   ],
   "source": [
    "manga_df = manga_df.drop(columns=['Completed date'])\n",
    "manga_df.head(5)"
   ]
  },
  {
   "cell_type": "markdown",
   "metadata": {},
   "source": [
    "Drop rows with no values in columns named `Release date` and `Genres`."
   ]
  },
  {
   "cell_type": "code",
   "execution_count": 41,
   "metadata": {},
   "outputs": [],
   "source": [
    "manga_df = manga_df[manga_df['Genres'].apply(lambda x: len(x) > 0)]\n",
    "manga_df = manga_df.dropna(subset=['Genres'])"
   ]
  },
  {
   "cell_type": "code",
   "execution_count": 42,
   "metadata": {},
   "outputs": [],
   "source": [
    "manga_df = manga_df.dropna(subset=['Release date'])"
   ]
  },
  {
   "cell_type": "markdown",
   "id": "f730d716",
   "metadata": {},
   "source": [
    "Let's check data after deleting columns `Themes`"
   ]
  },
  {
   "cell_type": "code",
   "execution_count": 43,
   "id": "5b355321",
   "metadata": {
    "scrolled": true
   },
   "outputs": [
    {
     "data": {
      "text/html": [
       "<div>\n",
       "<style scoped>\n",
       "    .dataframe tbody tr th:only-of-type {\n",
       "        vertical-align: middle;\n",
       "    }\n",
       "\n",
       "    .dataframe tbody tr th {\n",
       "        vertical-align: top;\n",
       "    }\n",
       "\n",
       "    .dataframe thead th {\n",
       "        text-align: right;\n",
       "    }\n",
       "</style>\n",
       "<table border=\"1\" class=\"dataframe\">\n",
       "  <thead>\n",
       "    <tr style=\"text-align: right;\">\n",
       "      <th></th>\n",
       "      <th>Title</th>\n",
       "      <th>Score</th>\n",
       "      <th>Vote</th>\n",
       "      <th>Ranked</th>\n",
       "      <th>Popularity</th>\n",
       "      <th>Members</th>\n",
       "      <th>Favorite</th>\n",
       "      <th>Volumes</th>\n",
       "      <th>Chapters</th>\n",
       "      <th>Status</th>\n",
       "      <th>Genres</th>\n",
       "      <th>Author</th>\n",
       "      <th>Recommended</th>\n",
       "      <th>Mixed Feelings</th>\n",
       "      <th>Not Recommended</th>\n",
       "      <th>Release date</th>\n",
       "      <th>Time from release (months)</th>\n",
       "    </tr>\n",
       "  </thead>\n",
       "  <tbody>\n",
       "    <tr>\n",
       "      <th>0</th>\n",
       "      <td>Berserk</td>\n",
       "      <td>9.47</td>\n",
       "      <td>331288</td>\n",
       "      <td>1</td>\n",
       "      <td>1</td>\n",
       "      <td>665300</td>\n",
       "      <td>122841</td>\n",
       "      <td>4.0</td>\n",
       "      <td>23.0</td>\n",
       "      <td>Publishing</td>\n",
       "      <td>[Action, Adventure, Award Winning, Drama, Fant...</td>\n",
       "      <td>[Miura Kentarou Studio Gaga]</td>\n",
       "      <td>233</td>\n",
       "      <td>15</td>\n",
       "      <td>10</td>\n",
       "      <td>1989-08-25</td>\n",
       "      <td>411</td>\n",
       "    </tr>\n",
       "    <tr>\n",
       "      <th>1</th>\n",
       "      <td>JoJo no Kimyou na Bouken Part 7: Steel Ball Run</td>\n",
       "      <td>9.30</td>\n",
       "      <td>156368</td>\n",
       "      <td>2</td>\n",
       "      <td>26</td>\n",
       "      <td>256146</td>\n",
       "      <td>42864</td>\n",
       "      <td>24.0</td>\n",
       "      <td>96.0</td>\n",
       "      <td>Finished</td>\n",
       "      <td>[Action, Adventure, Mystery, Supernatural]</td>\n",
       "      <td>[Araki Hirohiko]</td>\n",
       "      <td>120</td>\n",
       "      <td>7</td>\n",
       "      <td>1</td>\n",
       "      <td>2004-01-19</td>\n",
       "      <td>87</td>\n",
       "    </tr>\n",
       "  </tbody>\n",
       "</table>\n",
       "</div>"
      ],
      "text/plain": [
       "                                             Title  Score    Vote  Ranked  \\\n",
       "0                                          Berserk   9.47  331288       1   \n",
       "1  JoJo no Kimyou na Bouken Part 7: Steel Ball Run   9.30  156368       2   \n",
       "\n",
       "   Popularity  Members  Favorite  Volumes  Chapters      Status  \\\n",
       "0           1   665300    122841      4.0      23.0  Publishing   \n",
       "1          26   256146     42864     24.0      96.0    Finished   \n",
       "\n",
       "                                              Genres  \\\n",
       "0  [Action, Adventure, Award Winning, Drama, Fant...   \n",
       "1         [Action, Adventure, Mystery, Supernatural]   \n",
       "\n",
       "                         Author  Recommended  Mixed Feelings  Not Recommended  \\\n",
       "0  [Miura Kentarou Studio Gaga]          233              15               10   \n",
       "1              [Araki Hirohiko]          120               7                1   \n",
       "\n",
       "  Release date  Time from release (months)  \n",
       "0   1989-08-25                         411  \n",
       "1   2004-01-19                          87  "
      ]
     },
     "execution_count": 43,
     "metadata": {},
     "output_type": "execute_result"
    }
   ],
   "source": [
    "manga_df.head(2)"
   ]
  },
  {
   "cell_type": "markdown",
   "id": "80ce612c",
   "metadata": {},
   "source": [
    "**`Genres`** Romance is the most popular genre, accounting for **15.44%** (based on the number of appearances in all column lists)"
   ]
  },
  {
   "cell_type": "code",
   "execution_count": 44,
   "id": "6d9d2ea9",
   "metadata": {},
   "outputs": [
    {
     "data": {
      "text/plain": [
       "('Romance', 15.0409175079147)"
      ]
     },
     "execution_count": 44,
     "metadata": {},
     "output_type": "execute_result"
    }
   ],
   "source": [
    "all_genres = np.concatenate(manga_df['Genres'].dropna().tolist())\n",
    "\n",
    "genres, counts_genres = np.unique(all_genres, return_counts=True)\n",
    "\n",
    "most_common_genre = genres[counts_genres.argmax()]\n",
    "most_common_genre_percentage = counts_genres[counts_genres.argmax()] / np.sum(counts_genres) * 100\n",
    "\n",
    "most_common_genre, most_common_genre_percentage"
   ]
  },
  {
   "cell_type": "markdown",
   "metadata": {},
   "source": [
    "## Top 10 manga based on Score"
   ]
  },
  {
   "cell_type": "code",
   "execution_count": 45,
   "metadata": {},
   "outputs": [
    {
     "name": "stdout",
     "output_type": "stream",
     "text": [
      "                                              Title  Score  Ranked\n",
      "0                                           Berserk   9.47       1\n",
      "1   JoJo no Kimyou na Bouken Part 7: Steel Ball Run   9.30       2\n",
      "2                                          Vagabond   9.24       3\n",
      "3                                         One Piece   9.22       4\n",
      "4                                           Monster   9.15       5\n",
      "5                                         Slam Dunk   9.09       6\n",
      "6                                      Vinland Saga   9.06       7\n",
      "7                               Fullmetal Alchemist   9.03       8\n",
      "9                 Oyasumi Punpun (Goodnight Punpun)   9.01      10\n",
      "10                                          Kingdom   9.00      11\n"
     ]
    }
   ],
   "source": [
    "top_10_manga = manga_df.nlargest(10, 'Score')\n",
    "print(top_10_manga[['Title', 'Score','Ranked']])"
   ]
  },
  {
   "cell_type": "code",
   "execution_count": 46,
   "metadata": {},
   "outputs": [
    {
     "data": {
      "image/png": "[encoded data removed]",
      "text/plain": [
       "<Figure size 1000x600 with 1 Axes>"
      ]
     },
     "metadata": {},
     "output_type": "display_data"
    }
   ],
   "source": [
    "\n",
    "# Plotting\n",
    "plt.figure(figsize=(10, 6))\n",
    "plt.bar(top_10_manga['Title'], top_10_manga['Score'], color='skyblue')\n",
    "plt.xlabel('Manga Title')\n",
    "plt.ylabel('Score')\n",
    "plt.title('Top 10 Manga Based on Score')\n",
    "plt.xticks(rotation=45, ha='right')  # Rotate x-axis labels for better visibility\n",
    "\n",
    "# Adjust y-axis range to highlight subtle differences\n",
    "plt.ylim(min(top_10_manga['Score']) - 0.1, max(top_10_manga['Score']) + 0.1)\n",
    "\n",
    "# Show the plot\n",
    "plt.tight_layout()\n",
    "plt.show()"
   ]
  },
  {
   "cell_type": "markdown",
   "metadata": {},
   "source": [
    "## Top 10 longest-running manga series"
   ]
  },
  {
   "cell_type": "code",
   "execution_count": 47,
   "metadata": {},
   "outputs": [
    {
     "name": "stdout",
     "output_type": "stream",
     "text": [
      "                                                 Title  \\\n",
      "2865                                             Faust   \n",
      "1064                                          Golgo 13   \n",
      "5853            Tokeijikake no Ringo (Clockwork Apple)   \n",
      "1660                                        Kinnikuman   \n",
      "2843                         Guin Saga (The Guin Saga)   \n",
      "3718                                    Crystal☆Dragon   \n",
      "2128                   Shuna no Tabi (Shuna's Journey)   \n",
      "2338  Kochira Katsushikaku Kameari Kouenmae Hashutsujo   \n",
      "2699            Munou no Hito (The Man Without Talent)   \n",
      "1288                                       Magic Kaito   \n",
      "\n",
      "      Time from release (months)  \n",
      "2865                         887  \n",
      "1064                         660  \n",
      "5853                         640  \n",
      "1660                         535  \n",
      "2843                         530  \n",
      "3718                         513  \n",
      "2128                         486  \n",
      "2338                         480  \n",
      "2699                         462  \n",
      "1288                         438  \n"
     ]
    }
   ],
   "source": [
    "top_10_manga = manga_df.nlargest(10, 'Time from release (months)')\n",
    "print(top_10_manga[['Title','Time from release (months)']])"
   ]
  },
  {
   "cell_type": "code",
   "execution_count": 48,
   "metadata": {},
   "outputs": [
    {
     "data": {
      "image/png": "[encoded data removed]",
      "text/plain": [
       "<Figure size 1000x600 with 1 Axes>"
      ]
     },
     "metadata": {},
     "output_type": "display_data"
    }
   ],
   "source": [
    "\n",
    "# Plotting\n",
    "plt.figure(figsize=(10, 6))\n",
    "plt.bar(top_10_manga['Title'], top_10_manga['Time from release (months)'], color='skyblue')\n",
    "plt.xlabel('Manga Title')\n",
    "plt.ylabel('Time from release (months)')\n",
    "plt.title('Top 10 Manga Based on Score')\n",
    "plt.xticks(rotation=45, ha='right')  # Rotate x-axis labels for better visibility\n",
    "\n",
    "# # Adjust y-axis range to highlight subtle differences\n",
    "# plt.ylim(min(top_5_manga['Score']) - 0.1, max(top_5_manga['Score']) + 0.1)\n",
    "\n",
    "# Show the plot\n",
    "plt.tight_layout()\n",
    "plt.show()"
   ]
  },
  {
   "cell_type": "markdown",
   "metadata": {},
   "source": [
    "## Top 10 most favorite manga series"
   ]
  },
  {
   "cell_type": "code",
   "execution_count": 49,
   "metadata": {},
   "outputs": [
    {
     "name": "stdout",
     "output_type": "stream",
     "text": [
      "                                               Title  Favorite\n",
      "0                                            Berserk    122841\n",
      "3                                          One Piece    114531\n",
      "40                                      Chainsaw Man     79578\n",
      "113             Shingeki no Kyojin (Attack on Titan)     68999\n",
      "9                  Oyasumi Punpun (Goodnight Punpun)     50732\n",
      "129                                      Tokyo Ghoul     44253\n",
      "621                                           Naruto     43636\n",
      "1    JoJo no Kimyou na Bouken Part 7: Steel Ball Run     42864\n",
      "59                                     Solo Leveling     40982\n",
      "2                                           Vagabond     40158\n"
     ]
    }
   ],
   "source": [
    "top_10_manga = manga_df.nlargest(10, 'Favorite')\n",
    "print(top_10_manga[['Title','Favorite']])"
   ]
  },
  {
   "cell_type": "code",
   "execution_count": 50,
   "metadata": {},
   "outputs": [
    {
     "data": {
      "image/png": "[encoded data removed]",
      "text/plain": [
       "<Figure size 1000x600 with 1 Axes>"
      ]
     },
     "metadata": {},
     "output_type": "display_data"
    }
   ],
   "source": [
    "# Plotting\n",
    "plt.figure(figsize=(10, 6))\n",
    "plt.bar(top_10_manga['Title'], top_10_manga['Favorite'], color='skyblue')\n",
    "plt.title('Top 10 Manga by Favorite Count')\n",
    "plt.xlabel('Manga Title')\n",
    "plt.ylabel('Favorite Count')\n",
    "plt.xticks(rotation=45, ha='right')  # Rotate x-axis labels for better readability\n",
    "plt.tight_layout()\n",
    "\n",
    "# Show the plot\n",
    "plt.show()"
   ]
  },
  {
   "cell_type": "markdown",
   "metadata": {},
   "source": [
    "## Top 10 manga series with the most Chapters"
   ]
  },
  {
   "cell_type": "code",
   "execution_count": 51,
   "metadata": {},
   "outputs": [
    {
     "name": "stdout",
     "output_type": "stream",
     "text": [
      "                                                 Title  Chapters\n",
      "2338  Kochira Katsushikaku Kameari Kouenmae Hashutsujo    1957.0\n",
      "5800                                        Asari-chan    1738.0\n",
      "4408                   Oishinbo (Oishinbo: À la Carte)    1039.0\n",
      "236                           Kyoukaisenjou no Horizon     872.0\n",
      "475                                              Major     747.0\n",
      "375                                          Initial D     724.0\n",
      "76                                             Gintama     709.0\n",
      "1127                                            Bleach     705.0\n",
      "621                                             Naruto     700.0\n",
      "1742                             Zettai Karen Children     622.0\n"
     ]
    }
   ],
   "source": [
    "top_10_manga = manga_df.nlargest(10, 'Chapters')\n",
    "print(top_10_manga[['Title','Chapters']])"
   ]
  },
  {
   "cell_type": "code",
   "execution_count": 52,
   "metadata": {},
   "outputs": [
    {
     "data": {
      "image/png": "[encoded data removed]",
      "text/plain": [
       "<Figure size 1000x600 with 1 Axes>"
      ]
     },
     "metadata": {},
     "output_type": "display_data"
    }
   ],
   "source": [
    "plt.figure(figsize=(10, 6))\n",
    "plt.bar(top_10_manga['Title'], top_10_manga['Chapters'], color='skyblue', align='center')\n",
    "plt.title('Top 10 Manga by Chapters Count')\n",
    "plt.xlabel('Manga Title')\n",
    "plt.ylabel('Chapters Count')\n",
    "plt.xticks(rotation=45, ha='right')  # Rotate x-axis labels for better readability\n",
    "plt.tight_layout()\n",
    "\n",
    "# Show the plot\n",
    "plt.show()"
   ]
  },
  {
   "cell_type": "markdown",
   "metadata": {},
   "source": [
    "## Save processed data"
   ]
  },
  {
   "cell_type": "code",
   "execution_count": 53,
   "metadata": {},
   "outputs": [],
   "source": [
    "manga_df.to_csv('../data/processed_comic.csv', index=False)"
   ]
  },
  {
   "cell_type": "markdown",
   "metadata": {},
   "source": []
  }
 ],
 "metadata": {
  "kernelspec": {
   "display_name": "Python 3 (ipykernel)",
   "language": "python",
   "name": "python3"
  },
  "language_info": {
   "codemirror_mode": {
    "name": "ipython",
    "version": 3
   },
   "file_extension": ".py",
   "mimetype": "text/x-python",
   "name": "python",
   "nbconvert_exporter": "python",
   "pygments_lexer": "ipython3",
   "version": "3.9.18"
  }
 },
 "nbformat": 4,
 "nbformat_minor": 5
}
